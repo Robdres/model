{
 "cells": [
  {
   "cell_type": "markdown",
   "id": "9b3c9c18-30f3-44d5-bcaf-6294179d97db",
   "metadata": {},
   "source": [
    "# Investigación de excel de Loja"
   ]
  },
  {
   "cell_type": "code",
   "execution_count": 799,
   "id": "a0b51140-703a-4b43-8f54-2f4da3e83057",
   "metadata": {},
   "outputs": [],
   "source": [
    "import numpy as np\n",
    "import matplotlib.pyplot as plt\n",
    "import pandas as pd\n",
    "import re\n",
    "from unidecode import unidecode  # pip install unidecode\n",
    "#Reading databases\n",
    "def read_database( path:str ):\n",
    "    if path.endswith(\".xlsx\"):\n",
    "        database = pd.read_excel(path)\n",
    "    else:\n",
    "        print(open(path).readline().rstrip())\n",
    "        database = pd.read_csv(path, skiprows=[0])\n",
    "    return database\n",
    "database = read_database(\"../databases/pacientes.xlsx\")"
   ]
  },
  {
   "cell_type": "code",
   "execution_count": 800,
   "id": "c9c6cc5c-91f3-4e85-a154-3c340f2038b1",
   "metadata": {},
   "outputs": [],
   "source": [
    "database\n",
    "database_clean = database\n",
    "def clean_column(name):\n",
    "    name = name.strip()\n",
    "    name = unidecode(name)                  \n",
    "    name = re.sub(r'[^\\w\\s]', '', name)     \n",
    "    name = name.replace(' ', '_')            \n",
    "    return name.lower()    \n",
    "    \n",
    "database_clean.columns = [clean_column(col) for col in database_clean.columns]"
   ]
  },
  {
   "cell_type": "code",
   "execution_count": 801,
   "id": "79807129-ad11-4841-996d-7608353b1594",
   "metadata": {},
   "outputs": [
    {
     "name": "stdout",
     "output_type": "stream",
     "text": [
      "name: codigo_de_identificacion, type: object\n",
      "name: sexo, type: object\n",
      "name: edad, type: int64\n",
      "name: tiene_ocupacion, type: object\n",
      "name: ocupacion_previa, type: object\n",
      "name: ocupacion_actual, type: object\n",
      "name: procedencia, type: object\n",
      "name: lugar_de_procedencia, type: object\n",
      "name: tsh, type: object\n",
      "name: t4_libre, type: object\n",
      "name: trastorno_tiroideo__sino, type: object\n",
      "name: trastorno_tiroideo, type: object\n",
      "name: diabetes_mellitus, type: object\n",
      "name: obesidad, type: object\n",
      "name: sobrepeso, type: object\n",
      "name: dislipidemia, type: object\n",
      "name: osteodistrofia_renal, type: object\n",
      "name: alteraciones_del_metabolismo_del_fosforo, type: object\n",
      "name: hiperparatiroidismo, type: object\n",
      "name: hipoparatiroidismo, type: object\n",
      "name: hiperuricemia, type: object\n",
      "name: retinopatia_diabetica, type: object\n",
      "name: retinopatia_hipertensiva, type: object\n",
      "name: glaucoma, type: object\n",
      "name: neuropatia_periferica, type: object\n",
      "name: ecv, type: object\n",
      "name: epilepsia, type: object\n",
      "name: migrana, type: object\n",
      "name: demencia, type: object\n",
      "name: hipertension_arterial, type: object\n",
      "name: infarto_de_miocardio_antiguo, type: object\n",
      "name: angina_de_pecho, type: object\n",
      "name: cardiopatia_isquemica_cronica, type: object\n",
      "name: insuficiencia_vascular_periferica, type: object\n",
      "name: fibrilacion_auricular, type: object\n",
      "name: arritmia_cardiaca_no_especificada, type: object\n",
      "name: insuficiencia_cardiaca, type: object\n",
      "name: varices_en_miembros_inferiores, type: object\n",
      "name: tuberculosis_pulmonar, type: object\n",
      "name: epoc, type: object\n",
      "name: neumonia_adquirida_en_la_comunidad, type: object\n",
      "name: derrame_pleural, type: object\n",
      "name: colelitiasis, type: object\n",
      "name: gastritis_cronica, type: object\n",
      "name: ulcera_peptica, type: object\n",
      "name: sindrome_de_intestino_irritable, type: object\n",
      "name: apendicitis_aguda, type: object\n",
      "name: pancreatitis_aguda, type: object\n",
      "name: artritis_reumatoide, type: object\n",
      "name: lupus_eritematoso_sistemico, type: object\n",
      "name: artrosis, type: object\n",
      "name: anemia, type: object\n",
      "name: purpura_trombocitopenica_idiopatica, type: object\n",
      "name: otras_comorbilidades, type: object\n",
      "name: tiempo_en_hemodialisis, type: object\n",
      "name: tratamiento_hormonal, type: object\n",
      "name: farmacodosis, type: int64\n"
     ]
    }
   ],
   "source": [
    "for col in database_clean.columns:\n",
    "    print(f\"name: {col}, type: {database_clean[col].dtype}\")"
   ]
  },
  {
   "cell_type": "code",
   "execution_count": 802,
   "id": "fa1ca269-13b4-4560-a703-15f2173fde65",
   "metadata": {},
   "outputs": [
    {
     "data": {
      "text/html": [
       "<div>\n",
       "<style scoped>\n",
       "    .dataframe tbody tr th:only-of-type {\n",
       "        vertical-align: middle;\n",
       "    }\n",
       "\n",
       "    .dataframe tbody tr th {\n",
       "        vertical-align: top;\n",
       "    }\n",
       "\n",
       "    .dataframe thead th {\n",
       "        text-align: right;\n",
       "    }\n",
       "</style>\n",
       "<table border=\"1\" class=\"dataframe\">\n",
       "  <thead>\n",
       "    <tr style=\"text-align: right;\">\n",
       "      <th></th>\n",
       "      <th>sexo</th>\n",
       "      <th>edad</th>\n",
       "      <th>tiene_ocupacion</th>\n",
       "      <th>ocupacion_previa</th>\n",
       "      <th>ocupacion_actual</th>\n",
       "      <th>procedencia</th>\n",
       "      <th>lugar_de_procedencia</th>\n",
       "      <th>tsh</th>\n",
       "      <th>t4_libre</th>\n",
       "      <th>trastorno_tiroideo__sino</th>\n",
       "      <th>...</th>\n",
       "      <th>pancreatitis_aguda</th>\n",
       "      <th>artritis_reumatoide</th>\n",
       "      <th>lupus_eritematoso_sistemico</th>\n",
       "      <th>artrosis</th>\n",
       "      <th>anemia</th>\n",
       "      <th>purpura_trombocitopenica_idiopatica</th>\n",
       "      <th>otras_comorbilidades</th>\n",
       "      <th>tiempo_en_hemodialisis</th>\n",
       "      <th>tratamiento_hormonal</th>\n",
       "      <th>farmacodosis</th>\n",
       "    </tr>\n",
       "  </thead>\n",
       "  <tbody>\n",
       "    <tr>\n",
       "      <th>0</th>\n",
       "      <td>Masculino</td>\n",
       "      <td>78</td>\n",
       "      <td>No</td>\n",
       "      <td>Que haceres domesticos</td>\n",
       "      <td>Ninguna</td>\n",
       "      <td>Urbana</td>\n",
       "      <td>Loja</td>\n",
       "      <td>1.1</td>\n",
       "      <td>0</td>\n",
       "      <td>Si</td>\n",
       "      <td>...</td>\n",
       "      <td>No</td>\n",
       "      <td>No</td>\n",
       "      <td>No</td>\n",
       "      <td>No</td>\n",
       "      <td>No</td>\n",
       "      <td>No</td>\n",
       "      <td>Ninguna</td>\n",
       "      <td>Entre 2 y 4 años</td>\n",
       "      <td>2</td>\n",
       "      <td>2</td>\n",
       "    </tr>\n",
       "    <tr>\n",
       "      <th>1</th>\n",
       "      <td>Masculino</td>\n",
       "      <td>78</td>\n",
       "      <td>No</td>\n",
       "      <td>Chofer</td>\n",
       "      <td>Jubilado</td>\n",
       "      <td>Urbana</td>\n",
       "      <td>Loja</td>\n",
       "      <td>2.2</td>\n",
       "      <td>0</td>\n",
       "      <td>Si</td>\n",
       "      <td>...</td>\n",
       "      <td>No</td>\n",
       "      <td>No</td>\n",
       "      <td>No</td>\n",
       "      <td>No</td>\n",
       "      <td>No</td>\n",
       "      <td>No</td>\n",
       "      <td>Hernia inguinocrural bilateral</td>\n",
       "      <td>Más de 4 años</td>\n",
       "      <td>2</td>\n",
       "      <td>2</td>\n",
       "    </tr>\n",
       "    <tr>\n",
       "      <th>2</th>\n",
       "      <td>Masculino</td>\n",
       "      <td>82</td>\n",
       "      <td>No</td>\n",
       "      <td>Empleado público</td>\n",
       "      <td>Jubilado</td>\n",
       "      <td>Rural</td>\n",
       "      <td>Paltas</td>\n",
       "      <td>1.3</td>\n",
       "      <td>0</td>\n",
       "      <td>Si</td>\n",
       "      <td>...</td>\n",
       "      <td>No</td>\n",
       "      <td>No</td>\n",
       "      <td>No</td>\n",
       "      <td>No</td>\n",
       "      <td>No</td>\n",
       "      <td>No</td>\n",
       "      <td>Ninguna</td>\n",
       "      <td>Más de 4 años</td>\n",
       "      <td>2</td>\n",
       "      <td>2</td>\n",
       "    </tr>\n",
       "    <tr>\n",
       "      <th>3</th>\n",
       "      <td>Masculino</td>\n",
       "      <td>64</td>\n",
       "      <td>No</td>\n",
       "      <td>Conserje</td>\n",
       "      <td>Jubilado</td>\n",
       "      <td>Urbana</td>\n",
       "      <td>Loja</td>\n",
       "      <td>3.7</td>\n",
       "      <td>0</td>\n",
       "      <td>Si</td>\n",
       "      <td>...</td>\n",
       "      <td>No</td>\n",
       "      <td>No</td>\n",
       "      <td>No</td>\n",
       "      <td>No</td>\n",
       "      <td>Si</td>\n",
       "      <td>No</td>\n",
       "      <td>Ninguna</td>\n",
       "      <td>Entre 2 y 4 años</td>\n",
       "      <td>2</td>\n",
       "      <td>2</td>\n",
       "    </tr>\n",
       "    <tr>\n",
       "      <th>4</th>\n",
       "      <td>Masculino</td>\n",
       "      <td>80</td>\n",
       "      <td>No</td>\n",
       "      <td>Agricultor</td>\n",
       "      <td>Jubilado</td>\n",
       "      <td>Rural</td>\n",
       "      <td>Macará</td>\n",
       "      <td>0.5</td>\n",
       "      <td>1.42</td>\n",
       "      <td>Si</td>\n",
       "      <td>...</td>\n",
       "      <td>No</td>\n",
       "      <td>No</td>\n",
       "      <td>No</td>\n",
       "      <td>No</td>\n",
       "      <td>No</td>\n",
       "      <td>No</td>\n",
       "      <td>Ninguna</td>\n",
       "      <td>Menos de 2 años</td>\n",
       "      <td>1</td>\n",
       "      <td>0</td>\n",
       "    </tr>\n",
       "  </tbody>\n",
       "</table>\n",
       "<p>5 rows × 56 columns</p>\n",
       "</div>"
      ],
      "text/plain": [
       "        sexo  edad tiene_ocupacion        ocupacion_previa ocupacion_actual  \\\n",
       "0  Masculino    78              No  Que haceres domesticos          Ninguna   \n",
       "1  Masculino    78              No                  Chofer         Jubilado   \n",
       "2  Masculino    82              No        Empleado público         Jubilado   \n",
       "3  Masculino    64              No                Conserje         Jubilado   \n",
       "4  Masculino    80              No              Agricultor         Jubilado   \n",
       "\n",
       "  procedencia lugar_de_procedencia  tsh t4_libre trastorno_tiroideo__sino  \\\n",
       "0      Urbana                 Loja  1.1        0                       Si   \n",
       "1      Urbana                 Loja  2.2        0                       Si   \n",
       "2       Rural               Paltas  1.3        0                       Si   \n",
       "3      Urbana                 Loja  3.7        0                       Si   \n",
       "4       Rural               Macará  0.5     1.42                       Si   \n",
       "\n",
       "   ... pancreatitis_aguda artritis_reumatoide lupus_eritematoso_sistemico  \\\n",
       "0  ...                 No                  No                          No   \n",
       "1  ...                 No                  No                          No   \n",
       "2  ...                 No                  No                          No   \n",
       "3  ...                 No                  No                          No   \n",
       "4  ...                 No                  No                          No   \n",
       "\n",
       "  artrosis anemia purpura_trombocitopenica_idiopatica  \\\n",
       "0       No     No                                  No   \n",
       "1       No     No                                  No   \n",
       "2       No     No                                  No   \n",
       "3       No     Si                                  No   \n",
       "4       No     No                                  No   \n",
       "\n",
       "             otras_comorbilidades tiempo_en_hemodialisis tratamiento_hormonal  \\\n",
       "0                         Ninguna       Entre 2 y 4 años                    2   \n",
       "1  Hernia inguinocrural bilateral          Más de 4 años                    2   \n",
       "2                         Ninguna          Más de 4 años                    2   \n",
       "3                         Ninguna       Entre 2 y 4 años                    2   \n",
       "4                         Ninguna        Menos de 2 años                    1   \n",
       "\n",
       "  farmacodosis  \n",
       "0            2  \n",
       "1            2  \n",
       "2            2  \n",
       "3            2  \n",
       "4            0  \n",
       "\n",
       "[5 rows x 56 columns]"
      ]
     },
     "execution_count": 802,
     "metadata": {},
     "output_type": "execute_result"
    }
   ],
   "source": [
    "# We dont care about IDs\n",
    "database_clean = database_clean.iloc[:,database.columns != \"codigo_de_identificacion\"]\n",
    "database_clean.head()"
   ]
  },
  {
   "cell_type": "code",
   "execution_count": 803,
   "id": "d2fa0002-c8be-4c6f-950e-c3241e64cafb",
   "metadata": {},
   "outputs": [],
   "source": [
    "def check_column( col ):\n",
    "    values = database_clean.iloc[:,database_clean.columns == col].value_counts()\n",
    "    return values.to_dict()"
   ]
  },
  {
   "cell_type": "code",
   "execution_count": 804,
   "id": "73c06c93-5faa-4f0a-a4ec-ec5463de3761",
   "metadata": {},
   "outputs": [],
   "source": [
    "#Preprocessing of data\n",
    "def get_categories( column ):\n",
    "    labels = database_clean[column].value_counts().index\n",
    "    return dict(zip(labels,range(len(labels))))"
   ]
  },
  {
   "cell_type": "code",
   "execution_count": 805,
   "id": "0f45def7-a35a-408d-b75e-b2296a19b835",
   "metadata": {},
   "outputs": [
    {
     "name": "stdout",
     "output_type": "stream",
     "text": [
      "['sexo', 'tiene_ocupacion', 'ocupacion_previa', 'ocupacion_actual', 'procedencia', 'lugar_de_procedencia', 'tsh', 't4_libre', 'trastorno_tiroideo__sino', 'trastorno_tiroideo', 'diabetes_mellitus', 'obesidad', 'sobrepeso', 'dislipidemia', 'osteodistrofia_renal', 'alteraciones_del_metabolismo_del_fosforo', 'hiperparatiroidismo', 'hipoparatiroidismo', 'hiperuricemia', 'retinopatia_diabetica', 'retinopatia_hipertensiva', 'glaucoma', 'neuropatia_periferica', 'ecv', 'epilepsia', 'migrana', 'demencia', 'hipertension_arterial', 'infarto_de_miocardio_antiguo', 'angina_de_pecho', 'cardiopatia_isquemica_cronica', 'insuficiencia_vascular_periferica', 'fibrilacion_auricular', 'arritmia_cardiaca_no_especificada', 'insuficiencia_cardiaca', 'varices_en_miembros_inferiores', 'tuberculosis_pulmonar', 'epoc', 'neumonia_adquirida_en_la_comunidad', 'derrame_pleural', 'colelitiasis', 'gastritis_cronica', 'ulcera_peptica', 'sindrome_de_intestino_irritable', 'apendicitis_aguda', 'pancreatitis_aguda', 'artritis_reumatoide', 'lupus_eritematoso_sistemico', 'artrosis', 'anemia', 'purpura_trombocitopenica_idiopatica', 'otras_comorbilidades', 'tiempo_en_hemodialisis', 'tratamiento_hormonal']\n"
     ]
    }
   ],
   "source": [
    "#Columns that should be cleaned, all values should not be changed\n",
    "non_int = [] \n",
    "for col in database_clean.columns:\n",
    "    if database_clean[col].dtype != np.int64:\n",
    "        non_int.append(col)\n",
    "print(non_int)"
   ]
  },
  {
   "cell_type": "markdown",
   "id": "e26d95fb-29ab-4f7a-9863-68bdc848601f",
   "metadata": {},
   "source": [
    "#### Atributo sexo"
   ]
  },
  {
   "cell_type": "code",
   "execution_count": 806,
   "id": "dc83586c-42e1-4792-ba8d-239502823e37",
   "metadata": {},
   "outputs": [
    {
     "data": {
      "text/plain": [
       "{('Masculino',): 76, ('Femenino',): 62, ('H',): 40, ('M',): 32, ('HJ',): 1}"
      ]
     },
     "execution_count": 806,
     "metadata": {},
     "output_type": "execute_result"
    }
   ],
   "source": [
    "# Columns that need change\n",
    "sex = check_column('sexo')\n",
    "sex"
   ]
  },
  {
   "cell_type": "code",
   "execution_count": 807,
   "id": "8f116517-567e-46a5-b529-0b878cb2edb6",
   "metadata": {},
   "outputs": [
    {
     "data": {
      "text/plain": [
       "sexo\n",
       "H    117\n",
       "M     94\n",
       "Name: count, dtype: int64"
      ]
     },
     "execution_count": 807,
     "metadata": {},
     "output_type": "execute_result"
    }
   ],
   "source": [
    "database_clean = database_clean.replace('Masculino','H')\n",
    "database_clean = database_clean.replace('Femenino','M')\n",
    "database_clean = database_clean.replace('HJ','H')\n",
    "database_clean['sexo'].value_counts()"
   ]
  },
  {
   "cell_type": "code",
   "execution_count": 808,
   "id": "f45c785e-8545-403a-b600-03b95bbaba98",
   "metadata": {},
   "outputs": [
    {
     "name": "stdout",
     "output_type": "stream",
     "text": [
      "sexo\n",
      "0    117\n",
      "1     94\n",
      "Name: count, dtype: int64\n",
      "{'H': 0, 'M': 1}\n"
     ]
    }
   ],
   "source": [
    "column = 'sexo'\n",
    "categories = get_categories(column)\n",
    "database_clean[column] = database_clean[column].replace(categories)\n",
    "print(database_clean[column].value_counts())\n",
    "print(categories)"
   ]
  },
  {
   "cell_type": "markdown",
   "id": "1b848639-9e82-4bca-81d5-d162b6adbeca",
   "metadata": {},
   "source": [
    "#### Atributo tiene_ocupacion"
   ]
  },
  {
   "cell_type": "code",
   "execution_count": 809,
   "id": "dffaca22-983f-4c49-9762-7529a7b8d4b3",
   "metadata": {},
   "outputs": [
    {
     "data": {
      "text/plain": [
       "{('Si',): 116, ('No',): 95}"
      ]
     },
     "execution_count": 809,
     "metadata": {},
     "output_type": "execute_result"
    }
   ],
   "source": [
    "check_column('tiene_ocupacion')"
   ]
  },
  {
   "cell_type": "code",
   "execution_count": 810,
   "id": "95613178-5ffa-42de-9c79-145884515b94",
   "metadata": {},
   "outputs": [
    {
     "name": "stdout",
     "output_type": "stream",
     "text": [
      "tiene_ocupacion\n",
      "0    116\n",
      "1     95\n",
      "Name: count, dtype: int64\n",
      "{'Si': 0, 'No': 1}\n"
     ]
    }
   ],
   "source": [
    "column = 'tiene_ocupacion'\n",
    "categories = get_categories(column)\n",
    "database_clean[column] = database_clean[column].replace(categories)\n",
    "print(database_clean[column].value_counts())\n",
    "print(categories)"
   ]
  },
  {
   "cell_type": "markdown",
   "id": "390201f4-a310-47a7-9976-2b1a39bd86c1",
   "metadata": {},
   "source": [
    "#### ocupacion previa"
   ]
  },
  {
   "cell_type": "code",
   "execution_count": 811,
   "id": "ad9eaae9-425a-4862-bd2f-f13a342d8ff3",
   "metadata": {},
   "outputs": [
    {
     "data": {
      "text/plain": [
       "{('Que haceres domesticos',): 44,\n",
       " ('Agricultor',): 20,\n",
       " ('Comerciante',): 19,\n",
       " ('Chofer',): 12,\n",
       " ('Docente',): 9,\n",
       " ('Empleado público',): 8,\n",
       " ('No refiere',): 3,\n",
       " ('Estudiante',): 3,\n",
       " ('Mecánico',): 3,\n",
       " ('Secretaría',): 2,\n",
       " ('Enfermería',): 2,\n",
       " ('Abogado',): 1,\n",
       " ('Sacerdote',): 1,\n",
       " ('Policía',): 1,\n",
       " ('Pintor',): 1,\n",
       " ('Panadería',): 1,\n",
       " ('Instrumentista odontológico',): 1,\n",
       " ('Médico',): 1,\n",
       " ('Militar',): 1,\n",
       " ('Ingeniero en Sistemas',): 1,\n",
       " ('Conserje',): 1,\n",
       " ('Carpintería',): 1,\n",
       " ('Alcalizador',): 1,\n",
       " ('Zapatero',): 1}"
      ]
     },
     "execution_count": 811,
     "metadata": {},
     "output_type": "execute_result"
    }
   ],
   "source": [
    "column = non_int[2]\n",
    "check_column(column)"
   ]
  },
  {
   "cell_type": "code",
   "execution_count": 812,
   "id": "68909083-7752-45cb-a541-c512a776c964",
   "metadata": {},
   "outputs": [
    {
     "name": "stdout",
     "output_type": "stream",
     "text": [
      "ocupacion_previa\n"
     ]
    }
   ],
   "source": [
    "print(column)\n",
    "database_clean = database_clean.iloc[:,database_clean.columns != column]"
   ]
  },
  {
   "cell_type": "markdown",
   "id": "81865bb7-becf-46a0-99e7-a1377237c310",
   "metadata": {},
   "source": [
    "#### ocupacion actual"
   ]
  },
  {
   "cell_type": "code",
   "execution_count": 813,
   "id": "d17926dc-675b-49e7-a0c7-97ca83c0e0a6",
   "metadata": {},
   "outputs": [
    {
     "data": {
      "text/plain": [
       "{('Jubilado',): 44,\n",
       " ('Que haceres domesticos',): 35,\n",
       " ('Ninguna',): 27,\n",
       " ('Ama de casa',): 21,\n",
       " ('Agricultor',): 17,\n",
       " ('Comerciante',): 15,\n",
       " ('Estudiante',): 7,\n",
       " ('Conductor',): 4,\n",
       " ('Empleado público',): 3,\n",
       " ('Ama de casa ',): 2,\n",
       " ('Costurera',): 1,\n",
       " ('Docente secundaria ',): 1,\n",
       " ('Agricultor ',): 1,\n",
       " ('Comunicador social',): 1,\n",
       " ('Ingeniero en Sistemas',): 1,\n",
       " ('Carpintería',): 1,\n",
       " ('Mecánico',): 1,\n",
       " ('Médico',): 1,\n",
       " ('Arquitecto ',): 1,\n",
       " ('No refiere',): 1,\n",
       " ('Panadera ',): 1,\n",
       " ('Sacerdote',): 1,\n",
       " ('Servicio al cliente',): 1}"
      ]
     },
     "execution_count": 813,
     "metadata": {},
     "output_type": "execute_result"
    }
   ],
   "source": [
    "column = non_int[3]\n",
    "check_column(column)"
   ]
  },
  {
   "cell_type": "code",
   "execution_count": 814,
   "id": "80ad56c6-86d4-4789-9406-baf0d6e6dc36",
   "metadata": {},
   "outputs": [
    {
     "name": "stdout",
     "output_type": "stream",
     "text": [
      "ocupacion_actual\n"
     ]
    }
   ],
   "source": [
    "print(column)\n",
    "database_clean = database_clean.iloc[:,database_clean.columns != column]"
   ]
  },
  {
   "cell_type": "markdown",
   "id": "8ce4e38b-d15a-448a-a32c-3f73f0f52a79",
   "metadata": {},
   "source": [
    "#### procedencia"
   ]
  },
  {
   "cell_type": "code",
   "execution_count": 815,
   "id": "5a427be4-f6b8-488f-8598-09669d273cc4",
   "metadata": {},
   "outputs": [
    {
     "name": "stdout",
     "output_type": "stream",
     "text": [
      "procedencia\n"
     ]
    },
    {
     "data": {
      "text/plain": [
       "{('Urbana',): 114, ('Rural',): 97}"
      ]
     },
     "execution_count": 815,
     "metadata": {},
     "output_type": "execute_result"
    }
   ],
   "source": [
    "column = non_int[4]\n",
    "print(column)\n",
    "check_column(column)"
   ]
  },
  {
   "cell_type": "code",
   "execution_count": 816,
   "id": "4d33e7ae-a33c-4cf4-9efb-02345e91206c",
   "metadata": {},
   "outputs": [
    {
     "data": {
      "text/plain": [
       "procedencia\n",
       "0    114\n",
       "1     97\n",
       "Name: count, dtype: int64"
      ]
     },
     "execution_count": 816,
     "metadata": {},
     "output_type": "execute_result"
    }
   ],
   "source": [
    "\n",
    "get_categories(column)\n",
    "database_clean[column] = database_clean[column].replace(get_categories(column))\n",
    "database_clean[column].value_counts()"
   ]
  },
  {
   "cell_type": "markdown",
   "id": "7ffeabb8-1cc2-455e-a210-082bbb816878",
   "metadata": {},
   "source": [
    "#### lugar_de_procedencia"
   ]
  },
  {
   "cell_type": "code",
   "execution_count": 817,
   "id": "84c728d3-378b-4a4c-b2e3-1e57d0bdc10d",
   "metadata": {},
   "outputs": [
    {
     "name": "stdout",
     "output_type": "stream",
     "text": [
      "lugar_de_procedencia\n"
     ]
    },
    {
     "data": {
      "text/plain": [
       "[(('Loja',), 66),\n",
       " (('Paltas',), 11),\n",
       " (('Saraguro',), 8),\n",
       " (('Calvas',), 8),\n",
       " (('Catamayo',), 7),\n",
       " (('Gonzanamá',), 6),\n",
       " (('Celica',), 4),\n",
       " (('Macará',), 4),\n",
       " (('San José - Catamayo',), 4),\n",
       " (('Sucre – Loja ',), 4)]"
      ]
     },
     "execution_count": 817,
     "metadata": {},
     "output_type": "execute_result"
    }
   ],
   "source": [
    "column = non_int[5]\n",
    "print(column)\n",
    "list(check_column(column).items())[0:10]"
   ]
  },
  {
   "cell_type": "code",
   "execution_count": 818,
   "id": "bfe6e2bb-73b8-4b6d-b7d6-d2284b8f912d",
   "metadata": {},
   "outputs": [
    {
     "name": "stdout",
     "output_type": "stream",
     "text": [
      "lugar_de_procedencia\n"
     ]
    }
   ],
   "source": [
    "print(column)\n",
    "database_clean = database_clean.iloc[:,database_clean.columns != column]"
   ]
  },
  {
   "cell_type": "markdown",
   "id": "108b0780-57ce-4ce4-850c-852afcdfaf23",
   "metadata": {},
   "source": [
    "#### tsh\n",
    "tiroides"
   ]
  },
  {
   "cell_type": "code",
   "execution_count": 819,
   "id": "25f333bb-f001-4928-85d2-38389324f53e",
   "metadata": {},
   "outputs": [
    {
     "name": "stdout",
     "output_type": "stream",
     "text": [
      "tsh\n"
     ]
    },
    {
     "data": {
      "text/plain": [
       "[((1.1,), 8),\n",
       " ((1.2,), 7),\n",
       " ((2.4,), 7),\n",
       " ((1.9,), 6),\n",
       " ((0.4,), 6),\n",
       " ((1.6,), 6),\n",
       " ((2.8,), 6),\n",
       " ((0.3,), 5),\n",
       " ((1.8,), 5),\n",
       " ((1.4,), 5)]"
      ]
     },
     "execution_count": 819,
     "metadata": {},
     "output_type": "execute_result"
    }
   ],
   "source": [
    "column = non_int[6]\n",
    "print(column)\n",
    "list(check_column(column).items())[0:10]"
   ]
  },
  {
   "cell_type": "code",
   "execution_count": 820,
   "id": "2d638d8e-ffcd-4931-9fac-dd50cb47acb3",
   "metadata": {},
   "outputs": [
    {
     "name": "stdout",
     "output_type": "stream",
     "text": [
      "193    3-710\n",
      "Name: tsh, dtype: object\n",
      "Series([], Name: tsh, dtype: object)\n",
      "Series([], Name: tsh, dtype: object)\n"
     ]
    }
   ],
   "source": [
    "#change to float\n",
    "print(database_clean.loc[(database_clean[column] == '3-710'),column])\n",
    "database_clean.loc[(database_clean[column] == '3-710'),column] = 3710\n",
    "print(database_clean.loc[(database_clean[column] == '3-710'),column])\n",
    "print(database_clean.loc[(database_clean[column] == '1-040'),column])"
   ]
  },
  {
   "cell_type": "code",
   "execution_count": 821,
   "id": "a7ec556c-0aff-4800-9f92-83c654967570",
   "metadata": {},
   "outputs": [
    {
     "data": {
      "text/plain": [
       "0         1.1\n",
       "1         2.2\n",
       "2         1.3\n",
       "3         3.7\n",
       "4         0.5\n",
       "        ...  \n",
       "206    4420.0\n",
       "207    8070.0\n",
       "208    7230.0\n",
       "209    4120.0\n",
       "210    3330.0\n",
       "Name: tsh, Length: 211, dtype: float64"
      ]
     },
     "execution_count": 821,
     "metadata": {},
     "output_type": "execute_result"
    }
   ],
   "source": [
    "database_clean[column] = database_clean[column].astype(np.float64)\n",
    "database_clean[column]"
   ]
  },
  {
   "cell_type": "markdown",
   "id": "c7a9732b-04aa-4acc-821c-0ac28d6b3e58",
   "metadata": {},
   "source": [
    "#### t4_libre"
   ]
  },
  {
   "cell_type": "code",
   "execution_count": 822,
   "id": "71766a58-95eb-4024-be80-91ac7ff88c2b",
   "metadata": {},
   "outputs": [
    {
     "name": "stdout",
     "output_type": "stream",
     "text": [
      "t4_libre\n"
     ]
    },
    {
     "data": {
      "text/plain": [
       "[((0,), 95),\n",
       " ((1090,), 3),\n",
       " ((1.17,), 3),\n",
       " ((1.26,), 3),\n",
       " ((1120,), 3),\n",
       " ((1.24,), 3),\n",
       " ((1260,), 2),\n",
       " ((1520,), 2),\n",
       " ((1030,), 2),\n",
       " ((1060,), 2)]"
      ]
     },
     "execution_count": 822,
     "metadata": {},
     "output_type": "execute_result"
    }
   ],
   "source": [
    "column = non_int[7]\n",
    "print(column)\n",
    "database_clean.loc[(database_clean[column] == '1-040'),column] = 1040\n",
    "list(check_column(column).items())[0:10]"
   ]
  },
  {
   "cell_type": "code",
   "execution_count": 823,
   "id": "df85a0ac-e35f-4c69-83b9-90bbdd63c466",
   "metadata": {},
   "outputs": [
    {
     "data": {
      "text/plain": [
       "0         0.00\n",
       "1         0.00\n",
       "2         0.00\n",
       "3         0.00\n",
       "4         1.42\n",
       "        ...   \n",
       "206    1060.00\n",
       "207    1460.00\n",
       "208    1150.00\n",
       "209    1120.00\n",
       "210    1030.00\n",
       "Name: t4_libre, Length: 211, dtype: float64"
      ]
     },
     "execution_count": 823,
     "metadata": {},
     "output_type": "execute_result"
    }
   ],
   "source": [
    "database_clean[column] = database_clean[column].astype(np.float64)\n",
    "database_clean[column] "
   ]
  },
  {
   "cell_type": "markdown",
   "id": "9c5e3e49-a9b9-4ac3-8b1d-c7646fc6ae0d",
   "metadata": {},
   "source": [
    "#### transtorno_tiroideo__sino"
   ]
  },
  {
   "cell_type": "code",
   "execution_count": 824,
   "id": "617a7481-bfbd-4402-bafc-5a1aba8d1448",
   "metadata": {},
   "outputs": [
    {
     "name": "stdout",
     "output_type": "stream",
     "text": [
      "trastorno_tiroideo__sino\n"
     ]
    },
    {
     "data": {
      "text/plain": [
       "[(('No',), 121), (('Si',), 87)]"
      ]
     },
     "execution_count": 824,
     "metadata": {},
     "output_type": "execute_result"
    }
   ],
   "source": [
    "column = non_int[8]\n",
    "print(column)\n",
    "database_clean.loc[(database_clean[column] == '\\xa0Si'),column] = 'Si'\n",
    "list(check_column(column).items())"
   ]
  },
  {
   "cell_type": "code",
   "execution_count": 825,
   "id": "33aba654-6044-4820-9b38-fb8c11942b72",
   "metadata": {},
   "outputs": [
    {
     "data": {
      "text/plain": [
       "trastorno_tiroideo__sino\n",
       "0.0    121\n",
       "1.0     87\n",
       "Name: count, dtype: int64"
      ]
     },
     "execution_count": 825,
     "metadata": {},
     "output_type": "execute_result"
    }
   ],
   "source": [
    "database_clean[column] = database_clean[column].replace(get_categories(column))\n",
    "database_clean[column].value_counts()"
   ]
  },
  {
   "cell_type": "code",
   "execution_count": 826,
   "id": "118985bb-b131-403f-acb9-57db4704c005",
   "metadata": {},
   "outputs": [],
   "source": [
    "## transtorno_tiroideo"
   ]
  },
  {
   "cell_type": "code",
   "execution_count": 827,
   "id": "0557d531-a1e4-41ef-9898-ced64a548545",
   "metadata": {},
   "outputs": [
    {
     "name": "stdout",
     "output_type": "stream",
     "text": [
      "trastorno_tiroideo\n"
     ]
    },
    {
     "data": {
      "text/plain": [
       "[(('Eutiroideo',), 165),\n",
       " (('Hipotiroidismo Subclínico',), 19),\n",
       " (('Hipertiroidismo subclínico',), 9),\n",
       " (('Hipotiroidismo subclínico',), 9),\n",
       " (('Hipotiroidismo primario',), 6),\n",
       " (('Hipertiroidismo primario',), 2),\n",
       " (('Hipertiroidismo',), 1)]"
      ]
     },
     "execution_count": 827,
     "metadata": {},
     "output_type": "execute_result"
    }
   ],
   "source": [
    "column = non_int[9]\n",
    "print(column)\n",
    "database_clean.loc[(database_clean[column] == 3),column] = 'Eutiroideo'\n",
    "list(check_column(column).items())"
   ]
  },
  {
   "cell_type": "code",
   "execution_count": 828,
   "id": "dce3d154-92e5-4247-9594-9cb857f522e8",
   "metadata": {},
   "outputs": [
    {
     "data": {
      "text/plain": [
       "0                     eutiroideo\n",
       "1                     eutiroideo\n",
       "2                     eutiroideo\n",
       "3                     eutiroideo\n",
       "4                     eutiroideo\n",
       "                 ...            \n",
       "206                   eutiroideo\n",
       "207    hipotiroidismo_subclinico\n",
       "208    hipotiroidismo_subclinico\n",
       "209                   eutiroideo\n",
       "210                   eutiroideo\n",
       "Name: trastorno_tiroideo, Length: 211, dtype: object"
      ]
     },
     "execution_count": 828,
     "metadata": {},
     "output_type": "execute_result"
    }
   ],
   "source": [
    "database_clean[column] = database_clean[column].apply(clean_column)\n",
    "database_clean[column]"
   ]
  },
  {
   "cell_type": "code",
   "execution_count": 829,
   "id": "8c55b540-6d8e-454d-b0c6-a76da5599b18",
   "metadata": {},
   "outputs": [
    {
     "data": {
      "text/plain": [
       "[(('eutiroideo',), 165),\n",
       " (('hipotiroidismo_subclinico',), 28),\n",
       " (('hipertiroidismo_subclinico',), 9),\n",
       " (('hipotiroidismo_primario',), 6),\n",
       " (('hipertiroidismo_primario',), 2),\n",
       " (('hipertiroidismo',), 1)]"
      ]
     },
     "execution_count": 829,
     "metadata": {},
     "output_type": "execute_result"
    }
   ],
   "source": [
    "list(check_column(column).items())"
   ]
  },
  {
   "cell_type": "code",
   "execution_count": 830,
   "id": "fa386683-bccd-4e0e-9a3b-a7c764ccab62",
   "metadata": {},
   "outputs": [
    {
     "name": "stdout",
     "output_type": "stream",
     "text": [
      "trastorno_tiroideo\n",
      "0    165\n",
      "1     28\n",
      "2      9\n",
      "3      6\n",
      "4      2\n",
      "5      1\n",
      "Name: count, dtype: int64\n"
     ]
    }
   ],
   "source": [
    "database_clean[column] = database_clean[column].replace(get_categories(column))\n",
    "print(database_clean[column].value_counts())"
   ]
  },
  {
   "cell_type": "markdown",
   "id": "6a9b84ac-7e25-4b18-999e-49ff6680b454",
   "metadata": {},
   "source": [
    "#### diabetes_mellitus"
   ]
  },
  {
   "cell_type": "code",
   "execution_count": 831,
   "id": "8ce35127-15b9-45f4-af16-03a038c523c9",
   "metadata": {},
   "outputs": [
    {
     "name": "stdout",
     "output_type": "stream",
     "text": [
      "diabetes_mellitus\n"
     ]
    },
    {
     "data": {
      "text/plain": [
       "[(('Si',), 113), (('No',), 89), ((' Si',), 7), (('Si ',), 2)]"
      ]
     },
     "execution_count": 831,
     "metadata": {},
     "output_type": "execute_result"
    }
   ],
   "source": [
    "column = non_int[10]\n",
    "print(column)\n",
    "list(check_column(column).items())"
   ]
  },
  {
   "cell_type": "code",
   "execution_count": 832,
   "id": "5dfdd901-e3c4-4927-8bd9-c3f0badac236",
   "metadata": {},
   "outputs": [
    {
     "data": {
      "text/plain": [
       "0      si\n",
       "1      si\n",
       "2      no\n",
       "3      si\n",
       "4      si\n",
       "       ..\n",
       "206    no\n",
       "207    no\n",
       "208    no\n",
       "209    si\n",
       "210    si\n",
       "Name: diabetes_mellitus, Length: 211, dtype: object"
      ]
     },
     "execution_count": 832,
     "metadata": {},
     "output_type": "execute_result"
    }
   ],
   "source": [
    "database_clean[column] = database_clean[column].apply(clean_column)\n",
    "database_clean[column]"
   ]
  },
  {
   "cell_type": "code",
   "execution_count": 833,
   "id": "4bde03a2-8d05-42b6-930b-21b0f92aaaf5",
   "metadata": {},
   "outputs": [
    {
     "name": "stdout",
     "output_type": "stream",
     "text": [
      "diabetes_mellitus\n",
      "0    122\n",
      "1     89\n",
      "Name: count, dtype: int64\n",
      "{'si': 0, 'no': 1}\n"
     ]
    }
   ],
   "source": [
    "categories = get_categories(column)\n",
    "database_clean[column] = database_clean[column].replace(categories)\n",
    "print(database_clean[column].value_counts())\n",
    "print(categories)"
   ]
  },
  {
   "cell_type": "markdown",
   "id": "0736f169-6dc9-470e-828e-db89f61da76c",
   "metadata": {},
   "source": [
    "#### obesidad"
   ]
  },
  {
   "cell_type": "code",
   "execution_count": 834,
   "id": "7b8d8967-4c53-4719-8c05-84b66c3fb7dc",
   "metadata": {},
   "outputs": [
    {
     "name": "stdout",
     "output_type": "stream",
     "text": [
      "obesidad\n"
     ]
    },
    {
     "data": {
      "text/plain": [
       "[(('No',), 179), (('Si',), 32)]"
      ]
     },
     "execution_count": 834,
     "metadata": {},
     "output_type": "execute_result"
    }
   ],
   "source": [
    "column = non_int[11]\n",
    "print(column)\n",
    "list(check_column(column).items())"
   ]
  },
  {
   "cell_type": "code",
   "execution_count": 835,
   "id": "bce5ca4d-b859-4af7-9c50-c519cb3ed64f",
   "metadata": {},
   "outputs": [
    {
     "name": "stdout",
     "output_type": "stream",
     "text": [
      "obesidad\n",
      "0    179\n",
      "1     32\n",
      "Name: count, dtype: int64\n",
      "{'No': 0, 'Si': 1}\n"
     ]
    }
   ],
   "source": [
    "categories = get_categories(column)\n",
    "database_clean[column] = database_clean[column].replace(categories)\n",
    "print(database_clean[column].value_counts())\n",
    "print(categories)"
   ]
  },
  {
   "cell_type": "markdown",
   "id": "9a5d927a-35fd-45ef-8864-e6b6a4246ec1",
   "metadata": {},
   "source": [
    "#### sobrepeso"
   ]
  },
  {
   "cell_type": "code",
   "execution_count": 836,
   "id": "acd8c2e8-cf14-4a64-b4d8-2de0b53a584f",
   "metadata": {},
   "outputs": [
    {
     "name": "stdout",
     "output_type": "stream",
     "text": [
      "sobrepeso\n"
     ]
    },
    {
     "data": {
      "text/plain": [
       "[(('No',), 134), (('Si',), 77)]"
      ]
     },
     "execution_count": 836,
     "metadata": {},
     "output_type": "execute_result"
    }
   ],
   "source": [
    "column = non_int[12]\n",
    "print(column)\n",
    "list(check_column(column).items())"
   ]
  },
  {
   "cell_type": "code",
   "execution_count": 837,
   "id": "ab3ea037-81ad-4d83-826a-c6b49825cc7f",
   "metadata": {},
   "outputs": [
    {
     "name": "stdout",
     "output_type": "stream",
     "text": [
      "sobrepeso\n",
      "0    134\n",
      "1     77\n",
      "Name: count, dtype: int64\n",
      "{'No': 0, 'Si': 1}\n"
     ]
    }
   ],
   "source": [
    "categories = get_categories(column)\n",
    "database_clean[column] = database_clean[column].replace(categories)\n",
    "print(database_clean[column].value_counts())\n",
    "print(categories)"
   ]
  },
  {
   "cell_type": "markdown",
   "id": "aa58af90-6d4f-4971-b81e-ea7370b4ff2f",
   "metadata": {},
   "source": [
    "#### many others that behave the same"
   ]
  },
  {
   "cell_type": "code",
   "execution_count": 838,
   "id": "547dab9d-d6a3-4c03-be47-1d219f6423db",
   "metadata": {},
   "outputs": [
    {
     "name": "stdout",
     "output_type": "stream",
     "text": [
      "54\n",
      "['dislipidemia', 'osteodistrofia_renal', 'alteraciones_del_metabolismo_del_fosforo', 'hiperparatiroidismo', 'hipoparatiroidismo', 'hiperuricemia', 'retinopatia_diabetica', 'retinopatia_hipertensiva', 'glaucoma', 'neuropatia_periferica', 'ecv', 'epilepsia', 'migrana', 'demencia', 'hipertension_arterial', 'infarto_de_miocardio_antiguo', 'angina_de_pecho', 'cardiopatia_isquemica_cronica', 'insuficiencia_vascular_periferica', 'fibrilacion_auricular', 'arritmia_cardiaca_no_especificada', 'insuficiencia_cardiaca', 'varices_en_miembros_inferiores', 'tuberculosis_pulmonar', 'epoc', 'neumonia_adquirida_en_la_comunidad', 'derrame_pleural', 'colelitiasis', 'gastritis_cronica', 'ulcera_peptica', 'sindrome_de_intestino_irritable', 'apendicitis_aguda', 'pancreatitis_aguda', 'artritis_reumatoide', 'lupus_eritematoso_sistemico', 'artrosis', 'anemia', 'purpura_trombocitopenica_idiopatica']\n"
     ]
    }
   ],
   "source": [
    "print(len(non_int))\n",
    "print(non_int[13:51])"
   ]
  },
  {
   "cell_type": "code",
   "execution_count": 839,
   "id": "b4824538-afec-4fe1-b1b4-facee8caf8d4",
   "metadata": {},
   "outputs": [
    {
     "name": "stdout",
     "output_type": "stream",
     "text": [
      "dislipidemia\n",
      "dislipidemia\n",
      "0.0    109\n",
      "1.0     29\n",
      "Name: count, dtype: int64\n",
      "{'No': 0, 'Si': 1}\n",
      "osteodistrofia_renal\n",
      "osteodistrofia_renal\n",
      "0.0    126\n",
      "1.0     12\n",
      "Name: count, dtype: int64\n",
      "{'No': 0, 'Si': 1}\n",
      "alteraciones_del_metabolismo_del_fosforo\n",
      "alteraciones_del_metabolismo_del_fosforo\n",
      "0.0    128\n",
      "1.0     10\n",
      "Name: count, dtype: int64\n",
      "{'No': 0, 'Si': 1}\n",
      "hiperparatiroidismo\n",
      "hiperparatiroidismo\n",
      "0.0    135\n",
      "1.0      3\n",
      "Name: count, dtype: int64\n",
      "{'No': 0, 'Si': 1}\n",
      "hipoparatiroidismo\n",
      "hipoparatiroidismo\n",
      "0.0    137\n",
      "1.0      1\n",
      "Name: count, dtype: int64\n",
      "{'No': 0, 'Si': 1}\n",
      "hiperuricemia\n",
      "hiperuricemia\n",
      "0.0    118\n",
      "1.0     20\n",
      "Name: count, dtype: int64\n",
      "{'No': 0, 'Si': 1}\n",
      "retinopatia_diabetica\n",
      "retinopatia_diabetica\n",
      "0.0    110\n",
      "1.0     28\n",
      "2.0      3\n",
      "3.0      1\n",
      "Name: count, dtype: int64\n",
      "{'No': 0, 'Si': 1, 'Retinopatía diabética': 2, 'Retinopatía': 3}\n",
      "retinopatia_hipertensiva\n",
      "retinopatia_hipertensiva\n",
      "0.0    131\n",
      "1.0      7\n",
      "Name: count, dtype: int64\n",
      "{'No': 0, 'Si': 1}\n",
      "glaucoma\n",
      "glaucoma\n",
      "0.0    136\n",
      "1.0      2\n",
      "Name: count, dtype: int64\n",
      "{'No': 0, 'Si': 1}\n",
      "neuropatia_periferica\n",
      "neuropatia_periferica\n",
      "0.0    131\n",
      "1.0      7\n",
      "Name: count, dtype: int64\n",
      "{'No': 0, 'Si': 1}\n",
      "ecv\n",
      "ecv\n",
      "0.0    133\n",
      "1.0      5\n",
      "Name: count, dtype: int64\n",
      "{'No': 0, 'Si': 1}\n",
      "epilepsia\n",
      "epilepsia\n",
      "0.0    137\n",
      "1.0      1\n",
      "Name: count, dtype: int64\n",
      "{'No': 0, 'Si': 1}\n",
      "migrana\n",
      "migrana\n",
      "0.0    137\n",
      "1.0      1\n",
      "Name: count, dtype: int64\n",
      "{'No': 0, 'Si': 1}\n",
      "demencia\n",
      "demencia\n",
      "0.0    136\n",
      "1.0      2\n",
      "Name: count, dtype: int64\n",
      "{'No': 0, 'Si': 1}\n",
      "hipertension_arterial\n",
      "hipertension_arterial\n",
      "0    177\n",
      "1     33\n",
      "2      1\n",
      "Name: count, dtype: int64\n",
      "{'Si': 0, 'No': 1, 'Si ': 2}\n",
      "infarto_de_miocardio_antiguo\n",
      "infarto_de_miocardio_antiguo\n",
      "0.0    135\n",
      "1.0      3\n",
      "Name: count, dtype: int64\n",
      "{'No': 0, 'Si': 1}\n",
      "angina_de_pecho\n",
      "angina_de_pecho\n",
      "0.0    137\n",
      "1.0      1\n",
      "Name: count, dtype: int64\n",
      "{'No': 0, 'Si': 1}\n",
      "cardiopatia_isquemica_cronica\n",
      "cardiopatia_isquemica_cronica\n",
      "0.0    137\n",
      "1.0      1\n",
      "Name: count, dtype: int64\n",
      "{'No': 0, 'Si': 1}\n",
      "insuficiencia_vascular_periferica\n",
      "insuficiencia_vascular_periferica\n",
      "0.0    132\n",
      "1.0      6\n",
      "Name: count, dtype: int64\n",
      "{'No': 0, 'Si': 1}\n",
      "fibrilacion_auricular\n",
      "fibrilacion_auricular\n",
      "0.0    136\n",
      "1.0      2\n",
      "Name: count, dtype: int64\n",
      "{'No': 0, 'Si': 1}\n",
      "arritmia_cardiaca_no_especificada\n",
      "arritmia_cardiaca_no_especificada\n",
      "0.0    137\n",
      "1.0      1\n",
      "Name: count, dtype: int64\n",
      "{'No': 0, 'Si': 1}\n",
      "insuficiencia_cardiaca\n",
      "insuficiencia_cardiaca\n",
      "0    204\n",
      "1      7\n",
      "Name: count, dtype: int64\n",
      "{'No': 0, 'Si': 1}\n",
      "varices_en_miembros_inferiores\n",
      "varices_en_miembros_inferiores\n",
      "0.0    136\n",
      "1.0      2\n",
      "Name: count, dtype: int64\n",
      "{'No': 0, 'Si': 1}\n",
      "tuberculosis_pulmonar\n",
      "tuberculosis_pulmonar\n",
      "0.0    135\n",
      "1.0      3\n",
      "Name: count, dtype: int64\n",
      "{'No': 0, 'Si': 1}\n",
      "epoc\n",
      "epoc\n",
      "0    204\n",
      "1      7\n",
      "Name: count, dtype: int64\n",
      "{'No': 0, 'Si': 1}\n",
      "neumonia_adquirida_en_la_comunidad\n",
      "neumonia_adquirida_en_la_comunidad\n",
      "0.0    124\n",
      "1.0     14\n",
      "Name: count, dtype: int64\n",
      "{'No': 0, 'Si': 1}\n",
      "derrame_pleural\n",
      "derrame_pleural\n",
      "0.0    135\n",
      "1.0      3\n",
      "Name: count, dtype: int64\n",
      "{'No': 0, 'Si': 1}\n",
      "colelitiasis\n",
      "colelitiasis\n",
      "0.0    134\n",
      "1.0      4\n",
      "Name: count, dtype: int64\n",
      "{'No': 0, 'Si': 1}\n",
      "gastritis_cronica\n",
      "gastritis_cronica\n",
      "0.0    127\n",
      "1.0     11\n",
      "Name: count, dtype: int64\n",
      "{'No': 0, 'Si': 1}\n",
      "ulcera_peptica\n",
      "ulcera_peptica\n",
      "0.0    135\n",
      "1.0      3\n",
      "Name: count, dtype: int64\n",
      "{'No': 0, 'Si': 1}\n",
      "sindrome_de_intestino_irritable\n",
      "sindrome_de_intestino_irritable\n",
      "0.0    136\n",
      "1.0      2\n",
      "Name: count, dtype: int64\n",
      "{'No': 0, 'Si': 1}\n",
      "apendicitis_aguda\n",
      "apendicitis_aguda\n",
      "0.0    136\n",
      "1.0      2\n",
      "Name: count, dtype: int64\n",
      "{'No': 0, 'Si': 1}\n",
      "pancreatitis_aguda\n",
      "pancreatitis_aguda\n",
      "0.0    137\n",
      "1.0      1\n",
      "Name: count, dtype: int64\n",
      "{'No': 0, 'Si': 1}\n",
      "artritis_reumatoide\n",
      "artritis_reumatoide\n",
      "0.0    136\n",
      "1.0      2\n",
      "Name: count, dtype: int64\n",
      "{'No': 0, 'Si': 1}\n",
      "lupus_eritematoso_sistemico\n",
      "lupus_eritematoso_sistemico\n",
      "0    207\n",
      "1      4\n",
      "Name: count, dtype: int64\n",
      "{'No': 0, 'Si': 1}\n",
      "artrosis\n",
      "artrosis\n",
      "0.0    136\n",
      "1.0      2\n",
      "Name: count, dtype: int64\n",
      "{'No': 0, 'Si': 1}\n",
      "anemia\n",
      "anemia\n",
      "0.0    129\n",
      "1.0      9\n",
      "Name: count, dtype: int64\n",
      "{'No': 0, 'Si': 1}\n",
      "purpura_trombocitopenica_idiopatica\n",
      "purpura_trombocitopenica_idiopatica\n",
      "0.0    137\n",
      "1.0      1\n",
      "Name: count, dtype: int64\n",
      "{'No': 0, 'Si': 1}\n"
     ]
    }
   ],
   "source": [
    "for category in non_int[13:51]:\n",
    "    column = category\n",
    "    print(column)\n",
    "    list(check_column(column).items())\n",
    "    categories = get_categories(column)\n",
    "    database_clean[column] = database_clean[column].replace(categories)\n",
    "    print(database_clean[column].value_counts())\n",
    "    print(categories)"
   ]
  },
  {
   "cell_type": "code",
   "execution_count": 840,
   "id": "f92f01d2-6dca-406b-bb71-7f2bce77737a",
   "metadata": {},
   "outputs": [
    {
     "name": "stdout",
     "output_type": "stream",
     "text": [
      "   sexo  edad  tiene_ocupacion  procedencia  tsh  t4_libre  \\\n",
      "0     0    78                1            0  1.1      0.00   \n",
      "1     0    78                1            0  2.2      0.00   \n",
      "2     0    82                1            1  1.3      0.00   \n",
      "3     0    64                1            0  3.7      0.00   \n",
      "4     0    80                1            1  0.5      1.42   \n",
      "\n",
      "   trastorno_tiroideo__sino  trastorno_tiroideo  diabetes_mellitus  obesidad  \\\n",
      "0                       1.0                   0                  0         0   \n",
      "1                       1.0                   0                  0         0   \n",
      "2                       1.0                   0                  1         0   \n",
      "3                       1.0                   0                  0         0   \n",
      "4                       1.0                   0                  0         0   \n",
      "\n",
      "   ...  pancreatitis_aguda  artritis_reumatoide  lupus_eritematoso_sistemico  \\\n",
      "0  ...                 0.0                  0.0                            0   \n",
      "1  ...                 0.0                  0.0                            0   \n",
      "2  ...                 0.0                  0.0                            0   \n",
      "3  ...                 0.0                  0.0                            0   \n",
      "4  ...                 0.0                  0.0                            0   \n",
      "\n",
      "   artrosis  anemia  purpura_trombocitopenica_idiopatica  \\\n",
      "0       0.0     0.0                                  0.0   \n",
      "1       0.0     0.0                                  0.0   \n",
      "2       0.0     0.0                                  0.0   \n",
      "3       0.0     1.0                                  0.0   \n",
      "4       0.0     0.0                                  0.0   \n",
      "\n",
      "             otras_comorbilidades  tiempo_en_hemodialisis  \\\n",
      "0                         Ninguna        Entre 2 y 4 años   \n",
      "1  Hernia inguinocrural bilateral           Más de 4 años   \n",
      "2                         Ninguna           Más de 4 años   \n",
      "3                         Ninguna        Entre 2 y 4 años   \n",
      "4                         Ninguna         Menos de 2 años   \n",
      "\n",
      "   tratamiento_hormonal  farmacodosis  \n",
      "0                     2             2  \n",
      "1                     2             2  \n",
      "2                     2             2  \n",
      "3                     2             2  \n",
      "4                     1             0  \n",
      "\n",
      "[5 rows x 53 columns]\n"
     ]
    }
   ],
   "source": [
    "print(database_clean[0:5])"
   ]
  },
  {
   "cell_type": "markdown",
   "id": "d3b58941-19e0-452b-a543-eeee6d0ebaed",
   "metadata": {},
   "source": [
    "#### otras_comorbilidades"
   ]
  },
  {
   "cell_type": "code",
   "execution_count": 841,
   "id": "ac350c86-1807-419d-ab11-c2a88fd66a84",
   "metadata": {},
   "outputs": [
    {
     "name": "stdout",
     "output_type": "stream",
     "text": [
      "otras_comorbilidades\n",
      "otras_comorbilidades\n",
      "Ninguna                                                    151\n",
      "Pie diabético                                               10\n",
      "Hiperplasia prostática benigna                               8\n",
      "Infección de tracto urinario a repetición                    4\n",
      "Cáncer de Estómago                                           3\n",
      "Depresión                                                    3\n",
      "Discapacidad física motriz                                   3\n",
      "Cáncer de Próstata                                           3\n",
      "Infección por Herpes Zoster                                  2\n",
      "Glomerulonefritis                                            2\n",
      "Hernia inguinal                                              2\n",
      "Nefropatía por vasculitis                                    1\n",
      "Preclampsia                                                  1\n",
      "Lipomatosis                                                  1\n",
      "Enfermedad tubulointersticial por rechazo de trasplante      1\n",
      "Nefropatía por IgA                                           1\n",
      "Osteomielitis crónica                                        1\n",
      "Cáncer de Ovario                                             1\n",
      "Poliquistosis renal                                          1\n",
      "Embarazo anembrionado                                        1\n",
      "Síndrome perimenopáusico                                     1\n",
      "Síndrome depresivo leve                                      1\n",
      "Papilomatosis vesical                                        1\n",
      "Miomatosis uterina                                           1\n",
      "Hernia inguinocrural bilateral                               1\n",
      "Tubulopatía en enfermedad del tejido conjuntivo              1\n",
      "Cáncer de Tiroides                                           1\n",
      "Condilomatosis anogenital                                    1\n",
      "Onicomicosis                                                 1\n",
      "Fractura de falange distal de primer dedo                    1\n",
      "Cáncer de estómago                                           1\n",
      "Name: count, dtype: int64\n"
     ]
    }
   ],
   "source": [
    "column = non_int[51]\n",
    "print(column)\n",
    "print(database_clean[column].value_counts())"
   ]
  },
  {
   "cell_type": "code",
   "execution_count": 842,
   "id": "dcda3bac-220c-4f1f-bda7-2ebe14786ee5",
   "metadata": {},
   "outputs": [
    {
     "name": "stdout",
     "output_type": "stream",
     "text": [
      "otras_comorbilidades\n",
      "0     151\n",
      "1      10\n",
      "2       8\n",
      "3       4\n",
      "4       3\n",
      "5       3\n",
      "6       3\n",
      "7       3\n",
      "8       2\n",
      "9       2\n",
      "10      2\n",
      "11      1\n",
      "12      1\n",
      "13      1\n",
      "14      1\n",
      "15      1\n",
      "16      1\n",
      "17      1\n",
      "18      1\n",
      "19      1\n",
      "20      1\n",
      "21      1\n",
      "22      1\n",
      "23      1\n",
      "24      1\n",
      "25      1\n",
      "26      1\n",
      "27      1\n",
      "28      1\n",
      "29      1\n",
      "30      1\n",
      "Name: count, dtype: int64\n",
      "{'Ninguna': 0, 'Pie diabético': 1, 'Hiperplasia prostática benigna': 2, 'Infección de tracto urinario a repetición': 3, 'Cáncer de Estómago': 4, 'Depresión': 5, 'Discapacidad física motriz': 6, 'Cáncer de Próstata': 7, 'Infección por Herpes Zoster': 8, 'Glomerulonefritis': 9, 'Hernia inguinal': 10, 'Nefropatía por vasculitis': 11, 'Preclampsia': 12, 'Lipomatosis': 13, 'Enfermedad tubulointersticial por rechazo de trasplante': 14, 'Nefropatía por IgA': 15, 'Osteomielitis crónica': 16, 'Cáncer de Ovario': 17, 'Poliquistosis renal': 18, 'Embarazo anembrionado': 19, 'Síndrome perimenopáusico': 20, 'Síndrome depresivo leve': 21, 'Papilomatosis vesical': 22, 'Miomatosis uterina': 23, 'Hernia inguinocrural bilateral': 24, 'Tubulopatía en enfermedad del tejido conjuntivo': 25, 'Cáncer de Tiroides': 26, 'Condilomatosis anogenital': 27, 'Onicomicosis': 28, 'Fractura de falange distal de primer dedo': 29, 'Cáncer de estómago': 30}\n"
     ]
    }
   ],
   "source": [
    "categories = get_categories(column)\n",
    "database_clean[column] = database_clean[column].replace(categories)\n",
    "print(database_clean[column].value_counts())\n",
    "print(categories)"
   ]
  },
  {
   "cell_type": "markdown",
   "id": "bda961f4-2ac1-425d-afdf-42ea6be0a322",
   "metadata": {},
   "source": [
    "#### tiempo_en_hemodialisis"
   ]
  },
  {
   "cell_type": "code",
   "execution_count": 843,
   "id": "f6d8b981-bc18-4a5a-9736-6cacc60276ef",
   "metadata": {},
   "outputs": [
    {
     "data": {
      "text/plain": [
       "tiempo_en_hemodialisis\n",
       "1     67\n",
       "3     40\n",
       "5     31\n",
       "55    18\n",
       "43     4\n",
       "20     4\n",
       "24     4\n",
       "17     3\n",
       "27     3\n",
       "25     3\n",
       "19     2\n",
       "36     2\n",
       "44     2\n",
       "21     2\n",
       "30     2\n",
       "18     2\n",
       "28     2\n",
       "38     2\n",
       "45     2\n",
       "32     1\n",
       "4      1\n",
       "26     1\n",
       "34     1\n",
       "22     1\n",
       "48     1\n",
       "49     1\n",
       "41     1\n",
       "51     1\n",
       "9      1\n",
       "16     1\n",
       "14     1\n",
       "29     1\n",
       "37     1\n",
       "39     1\n",
       "40     1\n",
       "Name: count, dtype: int64"
      ]
     },
     "execution_count": 843,
     "metadata": {},
     "output_type": "execute_result"
    }
   ],
   "source": [
    "column = non_int[52]\n",
    "database_clean.loc[(database_clean[column] == 'Menos de 2 años'),column] = 1\n",
    "database_clean.loc[(database_clean[column] == 'Entre 2 y 4 años'),column] = 3\n",
    "database_clean.loc[(database_clean[column] == 'Más de 4 años'),column] = 5\n",
    "database_clean[column].value_counts()"
   ]
  },
  {
   "cell_type": "markdown",
   "id": "2bb33d17-0621-426c-8d44-0eafea9fb364",
   "metadata": {},
   "source": [
    "#### tratamiento_hormonal"
   ]
  },
  {
   "cell_type": "code",
   "execution_count": 844,
   "id": "28e80c35-2348-4d6d-8256-c37f63feca07",
   "metadata": {},
   "outputs": [
    {
     "name": "stdout",
     "output_type": "stream",
     "text": [
      "tratamiento_hormonal\n"
     ]
    },
    {
     "data": {
      "text/plain": [
       "tratamiento_hormonal\n",
       "1     90\n",
       "No    56\n",
       "2     48\n",
       "Si    17\n",
       "Name: count, dtype: int64"
      ]
     },
     "execution_count": 844,
     "metadata": {},
     "output_type": "execute_result"
    }
   ],
   "source": [
    "column = non_int[53]\n",
    "print(column)\n",
    "database_clean[column].value_counts()"
   ]
  },
  {
   "cell_type": "code",
   "execution_count": 845,
   "id": "2a470bb6-98c6-4eb5-9517-847748ff4c6f",
   "metadata": {},
   "outputs": [
    {
     "data": {
      "text/plain": [
       "tratamiento_hormonal\n",
       "1    146\n",
       "2     65\n",
       "Name: count, dtype: int64"
      ]
     },
     "execution_count": 845,
     "metadata": {},
     "output_type": "execute_result"
    }
   ],
   "source": [
    "database_clean[column] = database_clean[column].replace({\"Si\":2,\"No\":1})\n",
    "database_clean[column].value_counts()"
   ]
  },
  {
   "cell_type": "code",
   "execution_count": 846,
   "id": "e62975fa-1826-48c1-aa92-9b1791523db4",
   "metadata": {},
   "outputs": [
    {
     "data": {
      "text/html": [
       "<div>\n",
       "<style scoped>\n",
       "    .dataframe tbody tr th:only-of-type {\n",
       "        vertical-align: middle;\n",
       "    }\n",
       "\n",
       "    .dataframe tbody tr th {\n",
       "        vertical-align: top;\n",
       "    }\n",
       "\n",
       "    .dataframe thead th {\n",
       "        text-align: right;\n",
       "    }\n",
       "</style>\n",
       "<table border=\"1\" class=\"dataframe\">\n",
       "  <thead>\n",
       "    <tr style=\"text-align: right;\">\n",
       "      <th></th>\n",
       "      <th>sexo</th>\n",
       "      <th>edad</th>\n",
       "      <th>tiene_ocupacion</th>\n",
       "      <th>procedencia</th>\n",
       "      <th>tsh</th>\n",
       "      <th>t4_libre</th>\n",
       "      <th>trastorno_tiroideo__sino</th>\n",
       "      <th>trastorno_tiroideo</th>\n",
       "      <th>diabetes_mellitus</th>\n",
       "      <th>obesidad</th>\n",
       "      <th>...</th>\n",
       "      <th>pancreatitis_aguda</th>\n",
       "      <th>artritis_reumatoide</th>\n",
       "      <th>lupus_eritematoso_sistemico</th>\n",
       "      <th>artrosis</th>\n",
       "      <th>anemia</th>\n",
       "      <th>purpura_trombocitopenica_idiopatica</th>\n",
       "      <th>otras_comorbilidades</th>\n",
       "      <th>tiempo_en_hemodialisis</th>\n",
       "      <th>tratamiento_hormonal</th>\n",
       "      <th>farmacodosis</th>\n",
       "    </tr>\n",
       "  </thead>\n",
       "  <tbody>\n",
       "    <tr>\n",
       "      <th>0</th>\n",
       "      <td>0</td>\n",
       "      <td>78</td>\n",
       "      <td>1</td>\n",
       "      <td>0</td>\n",
       "      <td>1.1</td>\n",
       "      <td>0.00</td>\n",
       "      <td>1.0</td>\n",
       "      <td>0</td>\n",
       "      <td>0</td>\n",
       "      <td>0</td>\n",
       "      <td>...</td>\n",
       "      <td>0.0</td>\n",
       "      <td>0.0</td>\n",
       "      <td>0</td>\n",
       "      <td>0.0</td>\n",
       "      <td>0.0</td>\n",
       "      <td>0.0</td>\n",
       "      <td>0</td>\n",
       "      <td>3</td>\n",
       "      <td>2</td>\n",
       "      <td>2</td>\n",
       "    </tr>\n",
       "    <tr>\n",
       "      <th>1</th>\n",
       "      <td>0</td>\n",
       "      <td>78</td>\n",
       "      <td>1</td>\n",
       "      <td>0</td>\n",
       "      <td>2.2</td>\n",
       "      <td>0.00</td>\n",
       "      <td>1.0</td>\n",
       "      <td>0</td>\n",
       "      <td>0</td>\n",
       "      <td>0</td>\n",
       "      <td>...</td>\n",
       "      <td>0.0</td>\n",
       "      <td>0.0</td>\n",
       "      <td>0</td>\n",
       "      <td>0.0</td>\n",
       "      <td>0.0</td>\n",
       "      <td>0.0</td>\n",
       "      <td>24</td>\n",
       "      <td>5</td>\n",
       "      <td>2</td>\n",
       "      <td>2</td>\n",
       "    </tr>\n",
       "    <tr>\n",
       "      <th>2</th>\n",
       "      <td>0</td>\n",
       "      <td>82</td>\n",
       "      <td>1</td>\n",
       "      <td>1</td>\n",
       "      <td>1.3</td>\n",
       "      <td>0.00</td>\n",
       "      <td>1.0</td>\n",
       "      <td>0</td>\n",
       "      <td>1</td>\n",
       "      <td>0</td>\n",
       "      <td>...</td>\n",
       "      <td>0.0</td>\n",
       "      <td>0.0</td>\n",
       "      <td>0</td>\n",
       "      <td>0.0</td>\n",
       "      <td>0.0</td>\n",
       "      <td>0.0</td>\n",
       "      <td>0</td>\n",
       "      <td>5</td>\n",
       "      <td>2</td>\n",
       "      <td>2</td>\n",
       "    </tr>\n",
       "    <tr>\n",
       "      <th>3</th>\n",
       "      <td>0</td>\n",
       "      <td>64</td>\n",
       "      <td>1</td>\n",
       "      <td>0</td>\n",
       "      <td>3.7</td>\n",
       "      <td>0.00</td>\n",
       "      <td>1.0</td>\n",
       "      <td>0</td>\n",
       "      <td>0</td>\n",
       "      <td>0</td>\n",
       "      <td>...</td>\n",
       "      <td>0.0</td>\n",
       "      <td>0.0</td>\n",
       "      <td>0</td>\n",
       "      <td>0.0</td>\n",
       "      <td>1.0</td>\n",
       "      <td>0.0</td>\n",
       "      <td>0</td>\n",
       "      <td>3</td>\n",
       "      <td>2</td>\n",
       "      <td>2</td>\n",
       "    </tr>\n",
       "    <tr>\n",
       "      <th>4</th>\n",
       "      <td>0</td>\n",
       "      <td>80</td>\n",
       "      <td>1</td>\n",
       "      <td>1</td>\n",
       "      <td>0.5</td>\n",
       "      <td>1.42</td>\n",
       "      <td>1.0</td>\n",
       "      <td>0</td>\n",
       "      <td>0</td>\n",
       "      <td>0</td>\n",
       "      <td>...</td>\n",
       "      <td>0.0</td>\n",
       "      <td>0.0</td>\n",
       "      <td>0</td>\n",
       "      <td>0.0</td>\n",
       "      <td>0.0</td>\n",
       "      <td>0.0</td>\n",
       "      <td>0</td>\n",
       "      <td>1</td>\n",
       "      <td>1</td>\n",
       "      <td>0</td>\n",
       "    </tr>\n",
       "    <tr>\n",
       "      <th>...</th>\n",
       "      <td>...</td>\n",
       "      <td>...</td>\n",
       "      <td>...</td>\n",
       "      <td>...</td>\n",
       "      <td>...</td>\n",
       "      <td>...</td>\n",
       "      <td>...</td>\n",
       "      <td>...</td>\n",
       "      <td>...</td>\n",
       "      <td>...</td>\n",
       "      <td>...</td>\n",
       "      <td>...</td>\n",
       "      <td>...</td>\n",
       "      <td>...</td>\n",
       "      <td>...</td>\n",
       "      <td>...</td>\n",
       "      <td>...</td>\n",
       "      <td>...</td>\n",
       "      <td>...</td>\n",
       "      <td>...</td>\n",
       "      <td>...</td>\n",
       "    </tr>\n",
       "    <tr>\n",
       "      <th>206</th>\n",
       "      <td>1</td>\n",
       "      <td>23</td>\n",
       "      <td>0</td>\n",
       "      <td>0</td>\n",
       "      <td>4420.0</td>\n",
       "      <td>1060.00</td>\n",
       "      <td>0.0</td>\n",
       "      <td>0</td>\n",
       "      <td>1</td>\n",
       "      <td>0</td>\n",
       "      <td>...</td>\n",
       "      <td>NaN</td>\n",
       "      <td>NaN</td>\n",
       "      <td>0</td>\n",
       "      <td>NaN</td>\n",
       "      <td>NaN</td>\n",
       "      <td>NaN</td>\n",
       "      <td>0</td>\n",
       "      <td>55</td>\n",
       "      <td>1</td>\n",
       "      <td>0</td>\n",
       "    </tr>\n",
       "    <tr>\n",
       "      <th>207</th>\n",
       "      <td>1</td>\n",
       "      <td>56</td>\n",
       "      <td>0</td>\n",
       "      <td>1</td>\n",
       "      <td>8070.0</td>\n",
       "      <td>1460.00</td>\n",
       "      <td>1.0</td>\n",
       "      <td>1</td>\n",
       "      <td>1</td>\n",
       "      <td>0</td>\n",
       "      <td>...</td>\n",
       "      <td>NaN</td>\n",
       "      <td>NaN</td>\n",
       "      <td>0</td>\n",
       "      <td>NaN</td>\n",
       "      <td>NaN</td>\n",
       "      <td>NaN</td>\n",
       "      <td>0</td>\n",
       "      <td>38</td>\n",
       "      <td>1</td>\n",
       "      <td>0</td>\n",
       "    </tr>\n",
       "    <tr>\n",
       "      <th>208</th>\n",
       "      <td>1</td>\n",
       "      <td>27</td>\n",
       "      <td>0</td>\n",
       "      <td>1</td>\n",
       "      <td>7230.0</td>\n",
       "      <td>1150.00</td>\n",
       "      <td>1.0</td>\n",
       "      <td>1</td>\n",
       "      <td>1</td>\n",
       "      <td>0</td>\n",
       "      <td>...</td>\n",
       "      <td>NaN</td>\n",
       "      <td>NaN</td>\n",
       "      <td>1</td>\n",
       "      <td>NaN</td>\n",
       "      <td>NaN</td>\n",
       "      <td>NaN</td>\n",
       "      <td>0</td>\n",
       "      <td>24</td>\n",
       "      <td>2</td>\n",
       "      <td>3</td>\n",
       "    </tr>\n",
       "    <tr>\n",
       "      <th>209</th>\n",
       "      <td>1</td>\n",
       "      <td>64</td>\n",
       "      <td>0</td>\n",
       "      <td>0</td>\n",
       "      <td>4120.0</td>\n",
       "      <td>1120.00</td>\n",
       "      <td>0.0</td>\n",
       "      <td>0</td>\n",
       "      <td>0</td>\n",
       "      <td>0</td>\n",
       "      <td>...</td>\n",
       "      <td>NaN</td>\n",
       "      <td>NaN</td>\n",
       "      <td>0</td>\n",
       "      <td>NaN</td>\n",
       "      <td>NaN</td>\n",
       "      <td>NaN</td>\n",
       "      <td>0</td>\n",
       "      <td>40</td>\n",
       "      <td>1</td>\n",
       "      <td>0</td>\n",
       "    </tr>\n",
       "    <tr>\n",
       "      <th>210</th>\n",
       "      <td>1</td>\n",
       "      <td>55</td>\n",
       "      <td>0</td>\n",
       "      <td>1</td>\n",
       "      <td>3330.0</td>\n",
       "      <td>1030.00</td>\n",
       "      <td>0.0</td>\n",
       "      <td>0</td>\n",
       "      <td>0</td>\n",
       "      <td>1</td>\n",
       "      <td>...</td>\n",
       "      <td>NaN</td>\n",
       "      <td>NaN</td>\n",
       "      <td>0</td>\n",
       "      <td>NaN</td>\n",
       "      <td>NaN</td>\n",
       "      <td>NaN</td>\n",
       "      <td>0</td>\n",
       "      <td>55</td>\n",
       "      <td>1</td>\n",
       "      <td>0</td>\n",
       "    </tr>\n",
       "  </tbody>\n",
       "</table>\n",
       "<p>211 rows × 53 columns</p>\n",
       "</div>"
      ],
      "text/plain": [
       "     sexo  edad  tiene_ocupacion  procedencia     tsh  t4_libre  \\\n",
       "0       0    78                1            0     1.1      0.00   \n",
       "1       0    78                1            0     2.2      0.00   \n",
       "2       0    82                1            1     1.3      0.00   \n",
       "3       0    64                1            0     3.7      0.00   \n",
       "4       0    80                1            1     0.5      1.42   \n",
       "..    ...   ...              ...          ...     ...       ...   \n",
       "206     1    23                0            0  4420.0   1060.00   \n",
       "207     1    56                0            1  8070.0   1460.00   \n",
       "208     1    27                0            1  7230.0   1150.00   \n",
       "209     1    64                0            0  4120.0   1120.00   \n",
       "210     1    55                0            1  3330.0   1030.00   \n",
       "\n",
       "     trastorno_tiroideo__sino  trastorno_tiroideo  diabetes_mellitus  \\\n",
       "0                         1.0                   0                  0   \n",
       "1                         1.0                   0                  0   \n",
       "2                         1.0                   0                  1   \n",
       "3                         1.0                   0                  0   \n",
       "4                         1.0                   0                  0   \n",
       "..                        ...                 ...                ...   \n",
       "206                       0.0                   0                  1   \n",
       "207                       1.0                   1                  1   \n",
       "208                       1.0                   1                  1   \n",
       "209                       0.0                   0                  0   \n",
       "210                       0.0                   0                  0   \n",
       "\n",
       "     obesidad  ...  pancreatitis_aguda  artritis_reumatoide  \\\n",
       "0           0  ...                 0.0                  0.0   \n",
       "1           0  ...                 0.0                  0.0   \n",
       "2           0  ...                 0.0                  0.0   \n",
       "3           0  ...                 0.0                  0.0   \n",
       "4           0  ...                 0.0                  0.0   \n",
       "..        ...  ...                 ...                  ...   \n",
       "206         0  ...                 NaN                  NaN   \n",
       "207         0  ...                 NaN                  NaN   \n",
       "208         0  ...                 NaN                  NaN   \n",
       "209         0  ...                 NaN                  NaN   \n",
       "210         1  ...                 NaN                  NaN   \n",
       "\n",
       "     lupus_eritematoso_sistemico  artrosis  anemia  \\\n",
       "0                              0       0.0     0.0   \n",
       "1                              0       0.0     0.0   \n",
       "2                              0       0.0     0.0   \n",
       "3                              0       0.0     1.0   \n",
       "4                              0       0.0     0.0   \n",
       "..                           ...       ...     ...   \n",
       "206                            0       NaN     NaN   \n",
       "207                            0       NaN     NaN   \n",
       "208                            1       NaN     NaN   \n",
       "209                            0       NaN     NaN   \n",
       "210                            0       NaN     NaN   \n",
       "\n",
       "     purpura_trombocitopenica_idiopatica  otras_comorbilidades  \\\n",
       "0                                    0.0                     0   \n",
       "1                                    0.0                    24   \n",
       "2                                    0.0                     0   \n",
       "3                                    0.0                     0   \n",
       "4                                    0.0                     0   \n",
       "..                                   ...                   ...   \n",
       "206                                  NaN                     0   \n",
       "207                                  NaN                     0   \n",
       "208                                  NaN                     0   \n",
       "209                                  NaN                     0   \n",
       "210                                  NaN                     0   \n",
       "\n",
       "     tiempo_en_hemodialisis  tratamiento_hormonal  farmacodosis  \n",
       "0                         3                     2             2  \n",
       "1                         5                     2             2  \n",
       "2                         5                     2             2  \n",
       "3                         3                     2             2  \n",
       "4                         1                     1             0  \n",
       "..                      ...                   ...           ...  \n",
       "206                      55                     1             0  \n",
       "207                      38                     1             0  \n",
       "208                      24                     2             3  \n",
       "209                      40                     1             0  \n",
       "210                      55                     1             0  \n",
       "\n",
       "[211 rows x 53 columns]"
      ]
     },
     "execution_count": 846,
     "metadata": {},
     "output_type": "execute_result"
    }
   ],
   "source": [
    "## Database limpia\n",
    "database_clean"
   ]
  },
  {
   "cell_type": "markdown",
   "id": "a24cb586-fddc-4711-84fb-3ba004b2b735",
   "metadata": {},
   "source": [
    "## CLEAN DATABASE "
   ]
  },
  {
   "cell_type": "code",
   "execution_count": 847,
   "id": "01e8a1e8-6d61-4638-a0bf-7bf6f8b828f2",
   "metadata": {},
   "outputs": [],
   "source": [
    "database_clean.to_csv(\"../databases/clean_database_loja.csv\")"
   ]
  },
  {
   "cell_type": "markdown",
   "id": "ab6789a9-16cc-4f31-ac2a-4c8b4a51b7bb",
   "metadata": {},
   "source": [
    "## Simple very simple model"
   ]
  },
  {
   "cell_type": "code",
   "execution_count": 851,
   "id": "7feeb5c9-6482-4bad-8ffe-329a2980dd28",
   "metadata": {},
   "outputs": [],
   "source": [
    "database_dropped_na = database_clean.dropna()"
   ]
  },
  {
   "cell_type": "code",
   "execution_count": 853,
   "id": "18873c67-515c-48f8-bcd1-6f567678a811",
   "metadata": {},
   "outputs": [
    {
     "data": {
      "text/html": [
       "<div>\n",
       "<style scoped>\n",
       "    .dataframe tbody tr th:only-of-type {\n",
       "        vertical-align: middle;\n",
       "    }\n",
       "\n",
       "    .dataframe tbody tr th {\n",
       "        vertical-align: top;\n",
       "    }\n",
       "\n",
       "    .dataframe thead th {\n",
       "        text-align: right;\n",
       "    }\n",
       "</style>\n",
       "<table border=\"1\" class=\"dataframe\">\n",
       "  <thead>\n",
       "    <tr style=\"text-align: right;\">\n",
       "      <th></th>\n",
       "      <th>sexo</th>\n",
       "      <th>edad</th>\n",
       "      <th>tiene_ocupacion</th>\n",
       "      <th>procedencia</th>\n",
       "      <th>tsh</th>\n",
       "      <th>t4_libre</th>\n",
       "      <th>trastorno_tiroideo__sino</th>\n",
       "      <th>trastorno_tiroideo</th>\n",
       "      <th>diabetes_mellitus</th>\n",
       "      <th>obesidad</th>\n",
       "      <th>...</th>\n",
       "      <th>pancreatitis_aguda</th>\n",
       "      <th>artritis_reumatoide</th>\n",
       "      <th>lupus_eritematoso_sistemico</th>\n",
       "      <th>artrosis</th>\n",
       "      <th>anemia</th>\n",
       "      <th>purpura_trombocitopenica_idiopatica</th>\n",
       "      <th>otras_comorbilidades</th>\n",
       "      <th>tiempo_en_hemodialisis</th>\n",
       "      <th>tratamiento_hormonal</th>\n",
       "      <th>farmacodosis</th>\n",
       "    </tr>\n",
       "  </thead>\n",
       "  <tbody>\n",
       "    <tr>\n",
       "      <th>0</th>\n",
       "      <td>0</td>\n",
       "      <td>78</td>\n",
       "      <td>1</td>\n",
       "      <td>0</td>\n",
       "      <td>1.1</td>\n",
       "      <td>0.00</td>\n",
       "      <td>1.0</td>\n",
       "      <td>0</td>\n",
       "      <td>0</td>\n",
       "      <td>0</td>\n",
       "      <td>...</td>\n",
       "      <td>0.0</td>\n",
       "      <td>0.0</td>\n",
       "      <td>0</td>\n",
       "      <td>0.0</td>\n",
       "      <td>0.0</td>\n",
       "      <td>0.0</td>\n",
       "      <td>0</td>\n",
       "      <td>3</td>\n",
       "      <td>2</td>\n",
       "      <td>2</td>\n",
       "    </tr>\n",
       "    <tr>\n",
       "      <th>1</th>\n",
       "      <td>0</td>\n",
       "      <td>78</td>\n",
       "      <td>1</td>\n",
       "      <td>0</td>\n",
       "      <td>2.2</td>\n",
       "      <td>0.00</td>\n",
       "      <td>1.0</td>\n",
       "      <td>0</td>\n",
       "      <td>0</td>\n",
       "      <td>0</td>\n",
       "      <td>...</td>\n",
       "      <td>0.0</td>\n",
       "      <td>0.0</td>\n",
       "      <td>0</td>\n",
       "      <td>0.0</td>\n",
       "      <td>0.0</td>\n",
       "      <td>0.0</td>\n",
       "      <td>24</td>\n",
       "      <td>5</td>\n",
       "      <td>2</td>\n",
       "      <td>2</td>\n",
       "    </tr>\n",
       "    <tr>\n",
       "      <th>2</th>\n",
       "      <td>0</td>\n",
       "      <td>82</td>\n",
       "      <td>1</td>\n",
       "      <td>1</td>\n",
       "      <td>1.3</td>\n",
       "      <td>0.00</td>\n",
       "      <td>1.0</td>\n",
       "      <td>0</td>\n",
       "      <td>1</td>\n",
       "      <td>0</td>\n",
       "      <td>...</td>\n",
       "      <td>0.0</td>\n",
       "      <td>0.0</td>\n",
       "      <td>0</td>\n",
       "      <td>0.0</td>\n",
       "      <td>0.0</td>\n",
       "      <td>0.0</td>\n",
       "      <td>0</td>\n",
       "      <td>5</td>\n",
       "      <td>2</td>\n",
       "      <td>2</td>\n",
       "    </tr>\n",
       "    <tr>\n",
       "      <th>3</th>\n",
       "      <td>0</td>\n",
       "      <td>64</td>\n",
       "      <td>1</td>\n",
       "      <td>0</td>\n",
       "      <td>3.7</td>\n",
       "      <td>0.00</td>\n",
       "      <td>1.0</td>\n",
       "      <td>0</td>\n",
       "      <td>0</td>\n",
       "      <td>0</td>\n",
       "      <td>...</td>\n",
       "      <td>0.0</td>\n",
       "      <td>0.0</td>\n",
       "      <td>0</td>\n",
       "      <td>0.0</td>\n",
       "      <td>1.0</td>\n",
       "      <td>0.0</td>\n",
       "      <td>0</td>\n",
       "      <td>3</td>\n",
       "      <td>2</td>\n",
       "      <td>2</td>\n",
       "    </tr>\n",
       "    <tr>\n",
       "      <th>4</th>\n",
       "      <td>0</td>\n",
       "      <td>80</td>\n",
       "      <td>1</td>\n",
       "      <td>1</td>\n",
       "      <td>0.5</td>\n",
       "      <td>1.42</td>\n",
       "      <td>1.0</td>\n",
       "      <td>0</td>\n",
       "      <td>0</td>\n",
       "      <td>0</td>\n",
       "      <td>...</td>\n",
       "      <td>0.0</td>\n",
       "      <td>0.0</td>\n",
       "      <td>0</td>\n",
       "      <td>0.0</td>\n",
       "      <td>0.0</td>\n",
       "      <td>0.0</td>\n",
       "      <td>0</td>\n",
       "      <td>1</td>\n",
       "      <td>1</td>\n",
       "      <td>0</td>\n",
       "    </tr>\n",
       "    <tr>\n",
       "      <th>...</th>\n",
       "      <td>...</td>\n",
       "      <td>...</td>\n",
       "      <td>...</td>\n",
       "      <td>...</td>\n",
       "      <td>...</td>\n",
       "      <td>...</td>\n",
       "      <td>...</td>\n",
       "      <td>...</td>\n",
       "      <td>...</td>\n",
       "      <td>...</td>\n",
       "      <td>...</td>\n",
       "      <td>...</td>\n",
       "      <td>...</td>\n",
       "      <td>...</td>\n",
       "      <td>...</td>\n",
       "      <td>...</td>\n",
       "      <td>...</td>\n",
       "      <td>...</td>\n",
       "      <td>...</td>\n",
       "      <td>...</td>\n",
       "      <td>...</td>\n",
       "    </tr>\n",
       "    <tr>\n",
       "      <th>133</th>\n",
       "      <td>0</td>\n",
       "      <td>62</td>\n",
       "      <td>0</td>\n",
       "      <td>0</td>\n",
       "      <td>0.4</td>\n",
       "      <td>1.26</td>\n",
       "      <td>1.0</td>\n",
       "      <td>0</td>\n",
       "      <td>1</td>\n",
       "      <td>0</td>\n",
       "      <td>...</td>\n",
       "      <td>0.0</td>\n",
       "      <td>0.0</td>\n",
       "      <td>0</td>\n",
       "      <td>0.0</td>\n",
       "      <td>0.0</td>\n",
       "      <td>0.0</td>\n",
       "      <td>6</td>\n",
       "      <td>3</td>\n",
       "      <td>2</td>\n",
       "      <td>4</td>\n",
       "    </tr>\n",
       "    <tr>\n",
       "      <th>134</th>\n",
       "      <td>0</td>\n",
       "      <td>27</td>\n",
       "      <td>0</td>\n",
       "      <td>0</td>\n",
       "      <td>0.9</td>\n",
       "      <td>0.84</td>\n",
       "      <td>0.0</td>\n",
       "      <td>0</td>\n",
       "      <td>1</td>\n",
       "      <td>0</td>\n",
       "      <td>...</td>\n",
       "      <td>0.0</td>\n",
       "      <td>0.0</td>\n",
       "      <td>0</td>\n",
       "      <td>0.0</td>\n",
       "      <td>0.0</td>\n",
       "      <td>0.0</td>\n",
       "      <td>0</td>\n",
       "      <td>5</td>\n",
       "      <td>1</td>\n",
       "      <td>0</td>\n",
       "    </tr>\n",
       "    <tr>\n",
       "      <th>135</th>\n",
       "      <td>0</td>\n",
       "      <td>55</td>\n",
       "      <td>0</td>\n",
       "      <td>1</td>\n",
       "      <td>1.2</td>\n",
       "      <td>0.00</td>\n",
       "      <td>0.0</td>\n",
       "      <td>0</td>\n",
       "      <td>0</td>\n",
       "      <td>0</td>\n",
       "      <td>...</td>\n",
       "      <td>0.0</td>\n",
       "      <td>0.0</td>\n",
       "      <td>0</td>\n",
       "      <td>0.0</td>\n",
       "      <td>0.0</td>\n",
       "      <td>0.0</td>\n",
       "      <td>1</td>\n",
       "      <td>1</td>\n",
       "      <td>1</td>\n",
       "      <td>0</td>\n",
       "    </tr>\n",
       "    <tr>\n",
       "      <th>136</th>\n",
       "      <td>0</td>\n",
       "      <td>62</td>\n",
       "      <td>0</td>\n",
       "      <td>1</td>\n",
       "      <td>2.1</td>\n",
       "      <td>0.00</td>\n",
       "      <td>0.0</td>\n",
       "      <td>0</td>\n",
       "      <td>0</td>\n",
       "      <td>0</td>\n",
       "      <td>...</td>\n",
       "      <td>0.0</td>\n",
       "      <td>0.0</td>\n",
       "      <td>0</td>\n",
       "      <td>0.0</td>\n",
       "      <td>0.0</td>\n",
       "      <td>0.0</td>\n",
       "      <td>0</td>\n",
       "      <td>5</td>\n",
       "      <td>1</td>\n",
       "      <td>0</td>\n",
       "    </tr>\n",
       "    <tr>\n",
       "      <th>137</th>\n",
       "      <td>0</td>\n",
       "      <td>51</td>\n",
       "      <td>0</td>\n",
       "      <td>1</td>\n",
       "      <td>0.7</td>\n",
       "      <td>0.88</td>\n",
       "      <td>0.0</td>\n",
       "      <td>0</td>\n",
       "      <td>1</td>\n",
       "      <td>0</td>\n",
       "      <td>...</td>\n",
       "      <td>0.0</td>\n",
       "      <td>0.0</td>\n",
       "      <td>0</td>\n",
       "      <td>0.0</td>\n",
       "      <td>0.0</td>\n",
       "      <td>0.0</td>\n",
       "      <td>14</td>\n",
       "      <td>3</td>\n",
       "      <td>1</td>\n",
       "      <td>0</td>\n",
       "    </tr>\n",
       "  </tbody>\n",
       "</table>\n",
       "<p>138 rows × 53 columns</p>\n",
       "</div>"
      ],
      "text/plain": [
       "     sexo  edad  tiene_ocupacion  procedencia  tsh  t4_libre  \\\n",
       "0       0    78                1            0  1.1      0.00   \n",
       "1       0    78                1            0  2.2      0.00   \n",
       "2       0    82                1            1  1.3      0.00   \n",
       "3       0    64                1            0  3.7      0.00   \n",
       "4       0    80                1            1  0.5      1.42   \n",
       "..    ...   ...              ...          ...  ...       ...   \n",
       "133     0    62                0            0  0.4      1.26   \n",
       "134     0    27                0            0  0.9      0.84   \n",
       "135     0    55                0            1  1.2      0.00   \n",
       "136     0    62                0            1  2.1      0.00   \n",
       "137     0    51                0            1  0.7      0.88   \n",
       "\n",
       "     trastorno_tiroideo__sino  trastorno_tiroideo  diabetes_mellitus  \\\n",
       "0                         1.0                   0                  0   \n",
       "1                         1.0                   0                  0   \n",
       "2                         1.0                   0                  1   \n",
       "3                         1.0                   0                  0   \n",
       "4                         1.0                   0                  0   \n",
       "..                        ...                 ...                ...   \n",
       "133                       1.0                   0                  1   \n",
       "134                       0.0                   0                  1   \n",
       "135                       0.0                   0                  0   \n",
       "136                       0.0                   0                  0   \n",
       "137                       0.0                   0                  1   \n",
       "\n",
       "     obesidad  ...  pancreatitis_aguda  artritis_reumatoide  \\\n",
       "0           0  ...                 0.0                  0.0   \n",
       "1           0  ...                 0.0                  0.0   \n",
       "2           0  ...                 0.0                  0.0   \n",
       "3           0  ...                 0.0                  0.0   \n",
       "4           0  ...                 0.0                  0.0   \n",
       "..        ...  ...                 ...                  ...   \n",
       "133         0  ...                 0.0                  0.0   \n",
       "134         0  ...                 0.0                  0.0   \n",
       "135         0  ...                 0.0                  0.0   \n",
       "136         0  ...                 0.0                  0.0   \n",
       "137         0  ...                 0.0                  0.0   \n",
       "\n",
       "     lupus_eritematoso_sistemico  artrosis  anemia  \\\n",
       "0                              0       0.0     0.0   \n",
       "1                              0       0.0     0.0   \n",
       "2                              0       0.0     0.0   \n",
       "3                              0       0.0     1.0   \n",
       "4                              0       0.0     0.0   \n",
       "..                           ...       ...     ...   \n",
       "133                            0       0.0     0.0   \n",
       "134                            0       0.0     0.0   \n",
       "135                            0       0.0     0.0   \n",
       "136                            0       0.0     0.0   \n",
       "137                            0       0.0     0.0   \n",
       "\n",
       "     purpura_trombocitopenica_idiopatica  otras_comorbilidades  \\\n",
       "0                                    0.0                     0   \n",
       "1                                    0.0                    24   \n",
       "2                                    0.0                     0   \n",
       "3                                    0.0                     0   \n",
       "4                                    0.0                     0   \n",
       "..                                   ...                   ...   \n",
       "133                                  0.0                     6   \n",
       "134                                  0.0                     0   \n",
       "135                                  0.0                     1   \n",
       "136                                  0.0                     0   \n",
       "137                                  0.0                    14   \n",
       "\n",
       "     tiempo_en_hemodialisis  tratamiento_hormonal  farmacodosis  \n",
       "0                         3                     2             2  \n",
       "1                         5                     2             2  \n",
       "2                         5                     2             2  \n",
       "3                         3                     2             2  \n",
       "4                         1                     1             0  \n",
       "..                      ...                   ...           ...  \n",
       "133                       3                     2             4  \n",
       "134                       5                     1             0  \n",
       "135                       1                     1             0  \n",
       "136                       5                     1             0  \n",
       "137                       3                     1             0  \n",
       "\n",
       "[138 rows x 53 columns]"
      ]
     },
     "execution_count": 853,
     "metadata": {},
     "output_type": "execute_result"
    }
   ],
   "source": [
    "database_dropped_na"
   ]
  },
  {
   "cell_type": "code",
   "execution_count": 858,
   "id": "ed491801-f5f6-4361-bc81-966e66fe2f47",
   "metadata": {},
   "outputs": [
    {
     "name": "stdout",
     "output_type": "stream",
     "text": [
      "[[-0.90321065  1.142959    0.95742711 ...  0.32555531  1.36930639\n",
      "   0.78946561]\n",
      " [-0.90321065  1.142959    0.95742711 ...  1.57351734  1.36930639\n",
      "   0.78946561]\n",
      " [-0.90321065  1.45117266  0.95742711 ...  1.57351734  1.36930639\n",
      "   0.78946561]\n",
      " ...\n",
      " [-0.90321065 -0.62926956 -1.04446594 ... -0.92240672 -0.73029674\n",
      "  -0.67290022]\n",
      " [-0.90321065 -0.08989565 -1.04446594 ...  1.57351734 -0.73029674\n",
      "  -0.67290022]\n",
      " [-0.90321065 -0.93748322 -1.04446594 ...  0.32555531 -0.73029674\n",
      "  -0.67290022]]\n"
     ]
    }
   ],
   "source": [
    "import pandas as pd\n",
    "import numpy as np\n",
    "from sklearn.preprocessing import StandardScaler\n",
    "from sklearn.mixture import GaussianMixture\n",
    "import matplotlib.pyplot as plt\n",
    "\n",
    "data = database_dropped_na\n",
    "scaler = StandardScaler()\n",
    "\n",
    "X_scaled = scaler.fit_transform(data)\n",
    "print(X_scaled)\n"
   ]
  },
  {
   "cell_type": "code",
   "execution_count": 860,
   "id": "6f3511d7-de7d-41d4-848a-d66cbdad969f",
   "metadata": {},
   "outputs": [
    {
     "data": {
      "text/html": [
       "<style>#sk-container-id-2 {color: black;}#sk-container-id-2 pre{padding: 0;}#sk-container-id-2 div.sk-toggleable {background-color: white;}#sk-container-id-2 label.sk-toggleable__label {cursor: pointer;display: block;width: 100%;margin-bottom: 0;padding: 0.3em;box-sizing: border-box;text-align: center;}#sk-container-id-2 label.sk-toggleable__label-arrow:before {content: \"▸\";float: left;margin-right: 0.25em;color: #696969;}#sk-container-id-2 label.sk-toggleable__label-arrow:hover:before {color: black;}#sk-container-id-2 div.sk-estimator:hover label.sk-toggleable__label-arrow:before {color: black;}#sk-container-id-2 div.sk-toggleable__content {max-height: 0;max-width: 0;overflow: hidden;text-align: left;background-color: #f0f8ff;}#sk-container-id-2 div.sk-toggleable__content pre {margin: 0.2em;color: black;border-radius: 0.25em;background-color: #f0f8ff;}#sk-container-id-2 input.sk-toggleable__control:checked~div.sk-toggleable__content {max-height: 200px;max-width: 100%;overflow: auto;}#sk-container-id-2 input.sk-toggleable__control:checked~label.sk-toggleable__label-arrow:before {content: \"▾\";}#sk-container-id-2 div.sk-estimator input.sk-toggleable__control:checked~label.sk-toggleable__label {background-color: #d4ebff;}#sk-container-id-2 div.sk-label input.sk-toggleable__control:checked~label.sk-toggleable__label {background-color: #d4ebff;}#sk-container-id-2 input.sk-hidden--visually {border: 0;clip: rect(1px 1px 1px 1px);clip: rect(1px, 1px, 1px, 1px);height: 1px;margin: -1px;overflow: hidden;padding: 0;position: absolute;width: 1px;}#sk-container-id-2 div.sk-estimator {font-family: monospace;background-color: #f0f8ff;border: 1px dotted black;border-radius: 0.25em;box-sizing: border-box;margin-bottom: 0.5em;}#sk-container-id-2 div.sk-estimator:hover {background-color: #d4ebff;}#sk-container-id-2 div.sk-parallel-item::after {content: \"\";width: 100%;border-bottom: 1px solid gray;flex-grow: 1;}#sk-container-id-2 div.sk-label:hover label.sk-toggleable__label {background-color: #d4ebff;}#sk-container-id-2 div.sk-serial::before {content: \"\";position: absolute;border-left: 1px solid gray;box-sizing: border-box;top: 0;bottom: 0;left: 50%;z-index: 0;}#sk-container-id-2 div.sk-serial {display: flex;flex-direction: column;align-items: center;background-color: white;padding-right: 0.2em;padding-left: 0.2em;position: relative;}#sk-container-id-2 div.sk-item {position: relative;z-index: 1;}#sk-container-id-2 div.sk-parallel {display: flex;align-items: stretch;justify-content: center;background-color: white;position: relative;}#sk-container-id-2 div.sk-item::before, #sk-container-id-2 div.sk-parallel-item::before {content: \"\";position: absolute;border-left: 1px solid gray;box-sizing: border-box;top: 0;bottom: 0;left: 50%;z-index: -1;}#sk-container-id-2 div.sk-parallel-item {display: flex;flex-direction: column;z-index: 1;position: relative;background-color: white;}#sk-container-id-2 div.sk-parallel-item:first-child::after {align-self: flex-end;width: 50%;}#sk-container-id-2 div.sk-parallel-item:last-child::after {align-self: flex-start;width: 50%;}#sk-container-id-2 div.sk-parallel-item:only-child::after {width: 0;}#sk-container-id-2 div.sk-dashed-wrapped {border: 1px dashed gray;margin: 0 0.4em 0.5em 0.4em;box-sizing: border-box;padding-bottom: 0.4em;background-color: white;}#sk-container-id-2 div.sk-label label {font-family: monospace;font-weight: bold;display: inline-block;line-height: 1.2em;}#sk-container-id-2 div.sk-label-container {text-align: center;}#sk-container-id-2 div.sk-container {/* jupyter's `normalize.less` sets `[hidden] { display: none; }` but bootstrap.min.css set `[hidden] { display: none !important; }` so we also need the `!important` here to be able to override the default hidden behavior on the sphinx rendered scikit-learn.org. See: https://github.com/scikit-learn/scikit-learn/issues/21755 */display: inline-block !important;position: relative;}#sk-container-id-2 div.sk-text-repr-fallback {display: none;}</style><div id=\"sk-container-id-2\" class=\"sk-top-container\"><div class=\"sk-text-repr-fallback\"><pre>GaussianMixture(n_components=3)</pre><b>In a Jupyter environment, please rerun this cell to show the HTML representation or trust the notebook. <br />On GitHub, the HTML representation is unable to render, please try loading this page with nbviewer.org.</b></div><div class=\"sk-container\" hidden><div class=\"sk-item\"><div class=\"sk-estimator sk-toggleable\"><input class=\"sk-toggleable__control sk-hidden--visually\" id=\"sk-estimator-id-2\" type=\"checkbox\" checked><label for=\"sk-estimator-id-2\" class=\"sk-toggleable__label sk-toggleable__label-arrow\">GaussianMixture</label><div class=\"sk-toggleable__content\"><pre>GaussianMixture(n_components=3)</pre></div></div></div></div></div>"
      ],
      "text/plain": [
       "GaussianMixture(n_components=3)"
      ]
     },
     "execution_count": 860,
     "metadata": {},
     "output_type": "execute_result"
    }
   ],
   "source": [
    "gmm = GaussianMixture(n_components=3, covariance_type='full')\n",
    "gmm.fit(X_scaled)\n"
   ]
  },
  {
   "cell_type": "code",
   "execution_count": 935,
   "id": "39c44286-fc04-438b-9de8-a2a9fe5eae28",
   "metadata": {},
   "outputs": [
    {
     "name": "stdout",
     "output_type": "stream",
     "text": [
      "[0. 0. 0. 0. 0. 0. 0. 0. 0. 0. 0. 0. 0. 0. 0. 0. 0. 0. 0. 0. 0. 0. 0. 0.\n",
      " 0. 0. 0. 0. 0. 0. 0. 0. 0. 0. 0. 0. 0. 0. 0. 0. 0. 0. 0. 0. 0. 0. 0. 0.\n",
      " 0. 0. 0. 0. 0.]\n",
      "[1. 1. 1. 1. 1. 1. 1. 1. 1. 1. 1. 1. 1. 1. 1. 1. 1. 1. 1. 1. 1. 1. 1. 1.\n",
      " 1. 1. 1. 1. 1. 1. 1. 1. 1. 1. 1. 1. 1. 1. 1. 1. 1. 1. 1. 1. 1. 1. 1. 1.\n",
      " 1. 1. 1. 1. 1.]\n",
      "[0, 78, 1, 0, 1.1, 0.0, 1.0, 0, 0, 0, 1, 0.0, 0.0, 0.0, 0.0, 0.0, 0.0, 1.0, 0.0, 0.0, 0.0, 0.0, 0.0, 0.0, 0.0, 0, 0.0, 0.0, 0.0, 0.0, 0.0, 0.0, 0, 0.0, 0.0, 0, 0.0, 0.0, 0.0, 0.0, 0.0, 0.0, 0.0, 0.0, 0.0, 0, 0.0, 0.0, 0.0, 0, 3, 2, 2]\n",
      "[1, 75, 1, 1, 3.2, 0.0, 1.0, 0, 0, 0, 0, 0.0, 0.0, 0.0, 1.0, 0.0, 0.0, 0.0, 0.0, 0.0, 0.0, 1.0, 0.0, 0.0, 0.0, 0, 0.0, 0.0, 0.0, 0.0, 0.0, 0.0, 0, 0.0, 0.0, 0, 0.0, 0.0, 0.0, 0.0, 0.0, 0.0, 0.0, 0.0, 0.0, 0, 0.0, 0.0, 0.0, 3, 1, 2, 2]\n",
      "Index(['sexo', 'edad', 'tiene_ocupacion', 'procedencia', 'tsh', 't4_libre',\n",
      "       'trastorno_tiroideo__sino', 'trastorno_tiroideo', 'diabetes_mellitus',\n",
      "       'obesidad', 'sobrepeso', 'dislipidemia', 'osteodistrofia_renal',\n",
      "       'alteraciones_del_metabolismo_del_fosforo', 'hiperparatiroidismo',\n",
      "       'hipoparatiroidismo', 'hiperuricemia', 'retinopatia_diabetica',\n",
      "       'retinopatia_hipertensiva', 'glaucoma', 'neuropatia_periferica', 'ecv',\n",
      "       'epilepsia', 'migrana', 'demencia', 'hipertension_arterial',\n",
      "       'infarto_de_miocardio_antiguo', 'angina_de_pecho',\n",
      "       'cardiopatia_isquemica_cronica', 'insuficiencia_vascular_periferica',\n",
      "       'fibrilacion_auricular', 'arritmia_cardiaca_no_especificada',\n",
      "       'insuficiencia_cardiaca', 'varices_en_miembros_inferiores',\n",
      "       'tuberculosis_pulmonar', 'epoc', 'neumonia_adquirida_en_la_comunidad',\n",
      "       'derrame_pleural', 'colelitiasis', 'gastritis_cronica',\n",
      "       'ulcera_peptica', 'sindrome_de_intestino_irritable',\n",
      "       'apendicitis_aguda', 'pancreatitis_aguda', 'artritis_reumatoide',\n",
      "       'lupus_eritematoso_sistemico', 'artrosis', 'anemia',\n",
      "       'purpura_trombocitopenica_idiopatica', 'otras_comorbilidades',\n",
      "       'tiempo_en_hemodialisis', 'tratamiento_hormonal', 'farmacodosis'],\n",
      "      dtype='object')\n",
      "[ 0. 24.  2.  1.  0.  0.  0.  0.  0.  0.  0.  1.  0.  0.  0.  0.  0.  0.\n",
      "  0.  0.  0.  0.  0.  0.  0.  1.  0.  0.  0.  0.  0.  0.  0.  0.  0.  0.\n",
      "  0.  0.  0.  0.  0.  0.  0.  0.  0.  0.  0.  0.  0.  0.  0.  0.  0.]\n"
     ]
    }
   ],
   "source": [
    "new_patient0 = np.zeros(53) \n",
    "print(new_patient0)\n",
    "new_patient1 = np.ones(53) \n",
    "print(new_patient1)\n",
    "new_patient2 = list(database_dropped_na.iloc[0])\n",
    "print(new_patient2)\n",
    "new_patient3 = list(database_dropped_na.iloc[70])\n",
    "print(new_patient3)\n",
    "print(database_dropped_na.columns)\n",
    "new_patient4 = np.zeros(53)\n",
    "new_patient4[0] = 0\n",
    "new_patient4[1] = 24\n",
    "new_patient4[2] = 2\n",
    "new_patient4[3] = 1\n",
    "new_patient4[11] = 1\n",
    "new_patient4[25] = 1\n",
    "print(new_patient4)"
   ]
  },
  {
   "cell_type": "code",
   "execution_count": 929,
   "id": "83de857d-1f65-42cf-bbae-a67ab80396ab",
   "metadata": {},
   "outputs": [],
   "source": [
    "# Scale and score\n",
    "def predict_patient(patient):\n",
    "    new_scaled = scaler.transform([patient])\n",
    "    log_prob = gmm.score_samples(new_scaled)[0]\n",
    "    prob_density = np.exp(log_prob)\n",
    "    \n",
    "    print(\"🔍 Results for New Patient:\")\n",
    "    print(f\"Log-Likelihood: {log_prob:.3f}\")\n",
    "    print(f\"Probability Density: {prob_density:.6f} (higher = more likely)\")\n",
    "    train_log_probs = gmm.score_samples(X_scaled)\n",
    "    threshold = np.percentile(train_log_probs, 5)  # 5% threshold for \"unlikely\"\n",
    "    \n",
    "    print(f\"\\n🚨 Threshold for bottom 5% log-likelihood: {threshold:.3f}\")\n",
    "    if log_prob < threshold:\n",
    "        print(\"⚠️ This patient is an outlier (low probability to having ERC)\")\n",
    "    else:\n",
    "        print(\"✅ This patient has higher probability to have ERC\")\n",
    "    plt.hist(train_log_probs, bins=30, alpha=0.6, label='Training Patients')\n",
    "    plt.axvline(log_prob, color='red', linestyle='--', label='New Patient')\n",
    "    plt.title(\"Log-Likelihood Distribution (GMM)\")\n",
    "    plt.xlabel(\"Log Probability\")\n",
    "    plt.ylabel(\"Frequency\")\n",
    "    plt.legend()\n",
    "    plt.show()"
   ]
  },
  {
   "cell_type": "code",
   "execution_count": 918,
   "id": "33f314ac-6686-4427-a4c1-1bc7a38f4092",
   "metadata": {},
   "outputs": [
    {
     "name": "stderr",
     "output_type": "stream",
     "text": [
      "/home/robdres/KidneyTool/model/model/env/lib/python3.8/site-packages/sklearn/base.py:465: UserWarning: X does not have valid feature names, but StandardScaler was fitted with feature names\n",
      "  warnings.warn(\n"
     ]
    },
    {
     "name": "stdout",
     "output_type": "stream",
     "text": [
      "🔍 Results for New Patient:\n",
      "Log-Likelihood: -426.676\n",
      "Probability Density: 0.000000 (higher = more likely)\n",
      "\n",
      "🚨 Threshold for bottom 5% log-likelihood: -16.446\n",
      "⚠️ This patient is an outlier (low probability under cancer data)\n"
     ]
    },
    {
     "data": {
      "image/png": "[encoded data removed]",
      "text/plain": [
       "<Figure size 640x480 with 1 Axes>"
      ]
     },
     "metadata": {},
     "output_type": "display_data"
    }
   ],
   "source": [
    "predict_patient(new_patient0) #fake data"
   ]
  },
  {
   "cell_type": "code",
   "execution_count": 936,
   "id": "47c7451a-3886-49a1-b845-b4ee972735cc",
   "metadata": {},
   "outputs": [
    {
     "name": "stderr",
     "output_type": "stream",
     "text": [
      "/home/robdres/KidneyTool/model/model/env/lib/python3.8/site-packages/sklearn/base.py:465: UserWarning: X does not have valid feature names, but StandardScaler was fitted with feature names\n",
      "  warnings.warn(\n"
     ]
    },
    {
     "name": "stdout",
     "output_type": "stream",
     "text": [
      "🔍 Results for New Patient:\n",
      "Log-Likelihood: -325805093.745\n",
      "Probability Density: 0.000000 (higher = more likely)\n",
      "\n",
      "🚨 Threshold for bottom 5% log-likelihood: -16.446\n",
      "⚠️ This patient is an outlier (low probability to having ERC)\n"
     ]
    },
    {
     "data": {
      "image/png": "[encoded data removed]",
      "text/plain": [
       "<Figure size 640x480 with 1 Axes>"
      ]
     },
     "metadata": {},
     "output_type": "display_data"
    }
   ],
   "source": [
    "predict_patient(new_patient1)#fake data"
   ]
  },
  {
   "cell_type": "code",
   "execution_count": 923,
   "id": "8d82eda2-a479-4ecc-9a51-23c24234c1a9",
   "metadata": {},
   "outputs": [
    {
     "name": "stderr",
     "output_type": "stream",
     "text": [
      "/home/robdres/KidneyTool/model/model/env/lib/python3.8/site-packages/sklearn/base.py:465: UserWarning: X does not have valid feature names, but StandardScaler was fitted with feature names\n",
      "  warnings.warn(\n"
     ]
    },
    {
     "name": "stdout",
     "output_type": "stream",
     "text": [
      "🔍 Results for New Patient:\n",
      "Log-Likelihood: 20.158\n",
      "Probability Density: 568439334.976801 (higher = more likely)\n",
      "\n",
      "🚨 Threshold for bottom 5% log-likelihood: -16.446\n",
      "✅ This patient has higher probability to have ERC\n"
     ]
    },
    {
     "data": {
      "image/png": "[encoded data removed]",
      "text/plain": [
       "<Figure size 640x480 with 1 Axes>"
      ]
     },
     "metadata": {},
     "output_type": "display_data"
    }
   ],
   "source": [
    "predict_patient(new_patient2) #fake data"
   ]
  },
  {
   "cell_type": "code",
   "execution_count": 932,
   "id": "12526e81-b2bd-4c58-abf3-af8d8dba4146",
   "metadata": {},
   "outputs": [
    {
     "name": "stderr",
     "output_type": "stream",
     "text": [
      "/home/robdres/KidneyTool/model/model/env/lib/python3.8/site-packages/sklearn/base.py:465: UserWarning: X does not have valid feature names, but StandardScaler was fitted with feature names\n",
      "  warnings.warn(\n"
     ]
    },
    {
     "name": "stdout",
     "output_type": "stream",
     "text": [
      "🔍 Results for New Patient:\n",
      "Log-Likelihood: 3.959\n",
      "Probability Density: 52.419888 (higher = more likely)\n",
      "\n",
      "🚨 Threshold for bottom 5% log-likelihood: -16.446\n",
      "✅ This patient has higher probability to have ERC\n"
     ]
    },
    {
     "data": {
      "image/png": "[encoded data removed]",
      "text/plain": [
       "<Figure size 640x480 with 1 Axes>"
      ]
     },
     "metadata": {},
     "output_type": "display_data"
    }
   ],
   "source": [
    "predict_patient(new_patient3) #true data"
   ]
  },
  {
   "cell_type": "code",
   "execution_count": 937,
   "id": "b3f858eb-75a6-4895-bfd6-3097aaaf1011",
   "metadata": {},
   "outputs": [
    {
     "name": "stderr",
     "output_type": "stream",
     "text": [
      "/home/robdres/KidneyTool/model/model/env/lib/python3.8/site-packages/sklearn/base.py:465: UserWarning: X does not have valid feature names, but StandardScaler was fitted with feature names\n",
      "  warnings.warn(\n"
     ]
    },
    {
     "name": "stdout",
     "output_type": "stream",
     "text": [
      "🔍 Results for New Patient:\n",
      "Log-Likelihood: -393.503\n",
      "Probability Density: 0.000000 (higher = more likely)\n",
      "\n",
      "🚨 Threshold for bottom 5% log-likelihood: -16.446\n",
      "⚠️ This patient is an outlier (low probability to having ERC)\n"
     ]
    },
    {
     "data": {
      "image/png": "[encoded data removed]",
      "text/plain": [
       "<Figure size 640x480 with 1 Axes>"
      ]
     },
     "metadata": {},
     "output_type": "display_data"
    }
   ],
   "source": [
    "predict_patient(new_patient4) # true data"
   ]
  }
 ],
 "metadata": {
  "kernelspec": {
   "display_name": "Python 3 (ipykernel)",
   "language": "python",
   "name": "python3"
  },
  "language_info": {
   "codemirror_mode": {
    "name": "ipython",
    "version": 3
   },
   "file_extension": ".py",
   "mimetype": "text/x-python",
   "name": "python",
   "nbconvert_exporter": "python",
   "pygments_lexer": "ipython3",
   "version": "3.8.20"
  }
 },
 "nbformat": 4,
 "nbformat_minor": 5
}
