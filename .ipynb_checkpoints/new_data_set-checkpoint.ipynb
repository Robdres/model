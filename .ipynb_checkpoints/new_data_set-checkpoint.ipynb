{
 "cells": [
  {
   "cell_type": "code",
   "execution_count": null,
   "id": "e70c93e9-d1ba-4099-a653-6116b55ba5c1",
   "metadata": {},
   "outputs": [],
   "source": [
    "import numpy as np\n",
    "import matplotlib.pyplot as plt\n",
    "import pandas as pd"
   ]
  },
  {
   "cell_type": "code",
   "execution_count": null,
   "id": "577ae69e-e19d-49b3-a7c0-60558dfe2a6b",
   "metadata": {},
   "outputs": [],
   "source": [
    "database = pd.read_excel(\"../databases/database.xlsx\")"
   ]
  },
  {
   "cell_type": "code",
   "execution_count": null,
   "id": "874b2c50-7978-49a8-95dd-3a38066a425e",
   "metadata": {},
   "outputs": [],
   "source": [
    "database"
   ]
  },
  {
   "cell_type": "code",
   "execution_count": null,
   "id": "d2c1f947-af5d-4bd2-b9ec-4eb827ad5ac5",
   "metadata": {},
   "outputs": [],
   "source": [
    "database.columns = database.columns.str.lower()"
   ]
  },
  {
   "cell_type": "code",
   "execution_count": null,
   "id": "265d5fed-a57b-4df7-b827-cca1b689f7c3",
   "metadata": {},
   "outputs": [],
   "source": [
    "from metadata import DatabaseProcessor"
   ]
  },
  {
   "cell_type": "code",
   "execution_count": null,
   "id": "fd61ea58-f6eb-45c9-9f78-2e35057033b5",
   "metadata": {},
   "outputs": [],
   "source": [
    "processor = DatabaseProcessor(\"metadata.json\")"
   ]
  },
  {
   "cell_type": "code",
   "execution_count": null,
   "id": "68a52af1-01a4-4059-b9d9-eb9486b2fdbd",
   "metadata": {},
   "outputs": [],
   "source": [
    "meta_data = processor.load_metadata()"
   ]
  },
  {
   "cell_type": "code",
   "execution_count": null,
   "id": "6b003ad6-72e5-44da-9434-6c2d753774df",
   "metadata": {},
   "outputs": [],
   "source": [
    "database = processor.rename_columns(database);"
   ]
  },
  {
   "cell_type": "code",
   "execution_count": null,
   "id": "8eabbc8f-da94-4faa-9915-838084d998b8",
   "metadata": {},
   "outputs": [],
   "source": [
    "database2 = database.copy()"
   ]
  },
  {
   "cell_type": "code",
   "execution_count": null,
   "id": "466a13c3-abd0-4fdb-947f-122661abd2fb",
   "metadata": {},
   "outputs": [],
   "source": [
    "database2=database2.dropna(subset=['patient_code'])"
   ]
  },
  {
   "cell_type": "code",
   "execution_count": null,
   "id": "9405f277-6658-4e7a-9f42-7c70fc5ebc96",
   "metadata": {},
   "outputs": [],
   "source": [
    "database2"
   ]
  },
  {
   "cell_type": "markdown",
   "id": "30b008e9-dba0-46d5-9892-af527acf6979",
   "metadata": {},
   "source": [
    "## gender"
   ]
  },
  {
   "cell_type": "code",
   "execution_count": null,
   "id": "110c39ec-4c2c-4b51-b5b8-dd4456e5be85",
   "metadata": {},
   "outputs": [],
   "source": [
    "database2.gender.replace(0.85,0,inplace=True)"
   ]
  },
  {
   "cell_type": "markdown",
   "id": "d58763e6-aa2b-44fa-bced-3f2cbfb79980",
   "metadata": {},
   "source": [
    "## age_years"
   ]
  },
  {
   "cell_type": "code",
   "execution_count": null,
   "id": "c308dbb1-123b-455d-8363-bb79cd53d37a",
   "metadata": {},
   "outputs": [],
   "source": [
    "database2.age_years.fillna(database2.age_years.mean(),inplace=True)"
   ]
  },
  {
   "cell_type": "markdown",
   "id": "c2ebe862-c958-4007-ae7a-e8af28b7256f",
   "metadata": {},
   "source": [
    "## education_level"
   ]
  },
  {
   "cell_type": "code",
   "execution_count": null,
   "id": "af80611e-7716-4ab7-9216-4813e1a915ec",
   "metadata": {},
   "outputs": [],
   "source": [
    "import util"
   ]
  },
  {
   "cell_type": "code",
   "execution_count": null,
   "id": "73e7c305-08d2-496a-befe-2f21f652ede6",
   "metadata": {},
   "outputs": [],
   "source": [
    "util.get_categories(database2,'education_level')"
   ]
  },
  {
   "cell_type": "code",
   "execution_count": null,
   "id": "c5342a8a-63e0-4a57-a515-249b9af3fea9",
   "metadata": {},
   "outputs": [],
   "source": [
    "util.change_category(database2,'education_level')"
   ]
  },
  {
   "cell_type": "markdown",
   "id": "49397e2a-8339-4dec-97d9-e558ee821ebb",
   "metadata": {},
   "source": [
    "## diet_frequency"
   ]
  },
  {
   "cell_type": "code",
   "execution_count": null,
   "id": "2c6bfbff-544f-4099-9158-b29f44b32643",
   "metadata": {},
   "outputs": [],
   "source": [
    "util.get_categories(database2,'diet_frequency')"
   ]
  },
  {
   "cell_type": "markdown",
   "id": "0c5064bb-87e2-4cad-83a0-0dad07b13d6d",
   "metadata": {},
   "source": [
    "## exercise_30min_daily"
   ]
  },
  {
   "cell_type": "code",
   "execution_count": null,
   "id": "3b58ca04-5862-4d17-8660-bcafdaa4ebc2",
   "metadata": {},
   "outputs": [],
   "source": [
    "util.get_categories(database2,'exercise_30min_daily')"
   ]
  },
  {
   "cell_type": "code",
   "execution_count": null,
   "id": "486eca80-dad6-46d2-b819-c6b22a34fa5b",
   "metadata": {},
   "outputs": [],
   "source": [
    "util.get_categories(database2,'smoking_status')"
   ]
  },
  {
   "cell_type": "code",
   "execution_count": null,
   "id": "d3a3a71f-9787-4876-9650-c7f98eec039d",
   "metadata": {},
   "outputs": [],
   "source": [
    "util.get_categories(database2,'alcohol_consumption')"
   ]
  },
  {
   "cell_type": "code",
   "execution_count": null,
   "id": "d85ea6df-644c-4b48-a7ed-dc6ee31cc517",
   "metadata": {},
   "outputs": [],
   "source": [
    "util.get_categories(database2,'drug_consumption')"
   ]
  },
  {
   "cell_type": "code",
   "execution_count": null,
   "id": "348c1adf-669e-46a4-a986-f5293f3835a8",
   "metadata": {},
   "outputs": [],
   "source": [
    "database2.columns"
   ]
  },
  {
   "cell_type": "markdown",
   "id": "41961012-008b-4389-b934-64f99a5ba9e4",
   "metadata": {},
   "source": [
    "## columns with nan"
   ]
  },
  {
   "cell_type": "code",
   "execution_count": null,
   "id": "014f6794-5e45-4604-aedb-403e7c8f74a6",
   "metadata": {},
   "outputs": [],
   "source": [
    "columns_with_nan = database2.columns[database2.isna().any()].tolist()\n",
    "columns_with_nan"
   ]
  },
  {
   "cell_type": "code",
   "execution_count": null,
   "id": "3d714456-b8bb-4a87-b2fb-67e2d5b55306",
   "metadata": {},
   "outputs": [],
   "source": [
    "col = columns_with_nan[0]\n",
    "database2[col].replace(0, database2[col].mean(),inplace=True)\n",
    "database2[col].fillna(database2[col].mean(),inplace=True)\n",
    "print(database2[col].isna().sum())\n",
    "print((database2[col]==0).sum())"
   ]
  },
  {
   "cell_type": "code",
   "execution_count": null,
   "id": "d8636626-aeb1-4f2e-8947-8441da5b82ba",
   "metadata": {},
   "outputs": [],
   "source": [
    "col = columns_with_nan[1]\n",
    "database2[col].replace(0, database2[col].mean(),inplace=True)\n",
    "database2[col].fillna(database2[col].mean(),inplace=True)\n",
    "print(database2[col].isna().sum())\n",
    "print((database2[col]==0).sum())"
   ]
  },
  {
   "cell_type": "code",
   "execution_count": null,
   "id": "97d69332-5ddf-428e-982c-08d462620012",
   "metadata": {},
   "outputs": [],
   "source": [
    "col = columns_with_nan[2]\n",
    "database2[col] = database2[columns_with_nan[0]]/(database2[columns_with_nan[1]]**2)\n",
    "print(database2[col].value_counts())\n",
    "print((database2[col]==0).sum())\n",
    "print((database2[col].isna()).sum())"
   ]
  },
  {
   "cell_type": "code",
   "execution_count": null,
   "id": "8d9b47b4-1fd8-478d-968d-339b36dd86f1",
   "metadata": {},
   "outputs": [],
   "source": [
    "col = columns_with_nan[3]\n",
    "print(col)\n",
    "database2[col] = database2[col].apply(lambda x: 0 if isinstance(x,str) else x )\n",
    "database2[col].fillna(0).value_counts()"
   ]
  },
  {
   "cell_type": "markdown",
   "id": "858cfb70-d16e-4f13-8a23-22c4098201c8",
   "metadata": {},
   "source": [
    "## "
   ]
  },
  {
   "cell_type": "code",
   "execution_count": null,
   "id": "83db6141-5fe3-4767-9748-457421a3f9a0",
   "metadata": {},
   "outputs": [],
   "source": [
    "def categorize(row):\n",
    "    val = row[col]\n",
    "    gender = row['gender']\n",
    "    \n",
    "    if val == 4:\n",
    "        return 4\n",
    "    if gender == 1:\n",
    "        if val == 4:\n",
    "            return 3\n",
    "        elif val < 94:\n",
    "            return 0\n",
    "        elif 94 <= val < 98:\n",
    "            return 1\n",
    "        elif 98 <= val < 102:\n",
    "            return 2\n",
    "        else:\n",
    "            return 3\n",
    "    elif gender == 0:\n",
    "        if val == 4:\n",
    "            return 3\n",
    "        elif val < 80:\n",
    "            return 0\n",
    "        elif  84<= val < 88:\n",
    "            return 1\n",
    "        elif 88 <= val < 102:\n",
    "            return 2\n",
    "        else:\n",
    "            return 3\n",
    "    else:\n",
    "        return None  # Optional: handle missing/unknown genders\n",
    "\n",
    "# Apply row-wise\n",
    "database2[col] = database2.apply(categorize, axis=1)"
   ]
  },
  {
   "cell_type": "code",
   "execution_count": null,
   "id": "ea5c7a5d-d7b2-45ad-a22b-43f55a0b4bb0",
   "metadata": {},
   "outputs": [],
   "source": [
    "database2[col].value_counts()"
   ]
  },
  {
   "cell_type": "code",
   "execution_count": null,
   "id": "8990f565-70c3-488a-a15b-11cfbcd7ba0c",
   "metadata": {},
   "outputs": [],
   "source": [
    "database2"
   ]
  },
  {
   "cell_type": "code",
   "execution_count": null,
   "id": "f1f4089c-f9d3-455c-99e8-583840cc44cc",
   "metadata": {},
   "outputs": [],
   "source": [
    "col = columns_with_nan[4]\n",
    "def cat(val):\n",
    "    if not isinstance(val,str):\n",
    "        return val\n",
    "    else:\n",
    "        if not \"/\" in val:\n",
    "            return 0\n",
    "        else:\n",
    "            vals = val.split(\"/\")\n",
    "            if int(vals[0])>130 or int(vals[1])>85:\n",
    "                return 1 \n",
    "    return 0\n",
    "    \n",
    "database2[col].fillna(0,inplace=True)\n",
    "database2[col]"
   ]
  },
  {
   "cell_type": "code",
   "execution_count": null,
   "id": "51dda189-5274-4f06-8d95-3bdb75d07dec",
   "metadata": {},
   "outputs": [],
   "source": [
    "database2[col] = database2[col].apply(cat)"
   ]
  },
  {
   "cell_type": "code",
   "execution_count": null,
   "id": "9892dab4-20c1-4709-a62b-deb51fa06f53",
   "metadata": {},
   "outputs": [],
   "source": [
    "col = columns_with_nan[5]\n",
    "database2[col].fillna(0,inplace=True)\n",
    "database2[col].value_counts()"
   ]
  },
  {
   "cell_type": "code",
   "execution_count": null,
   "id": "c1e76098-4a9b-4708-9a4d-2344e9fbc5e1",
   "metadata": {},
   "outputs": [],
   "source": [
    "col = columns_with_nan[6]\n",
    "database2[col].fillna(0,inplace=True)\n",
    "database2[col].value_counts()"
   ]
  },
  {
   "cell_type": "code",
   "execution_count": null,
   "id": "f2041fe3-7bfe-4da4-b97b-6db4de54abf7",
   "metadata": {},
   "outputs": [],
   "source": [
    "col = columns_with_nan[7]\n",
    "database2[col].fillna(0,inplace=True)\n",
    "database2[col].value_counts()"
   ]
  },
  {
   "cell_type": "code",
   "execution_count": null,
   "id": "ed976360-8f61-423f-9c57-c7c98bd6fb53",
   "metadata": {},
   "outputs": [],
   "source": [
    "col = columns_with_nan[8]\n",
    "database2[col].fillna(0,inplace=True)\n",
    "database2[col].value_counts()"
   ]
  },
  {
   "cell_type": "code",
   "execution_count": null,
   "id": "bdec9dfa-6a84-495a-80af-6745b2915f4e",
   "metadata": {},
   "outputs": [],
   "source": [
    "col = columns_with_nan[9]\n",
    "database2[col].fillna(0,inplace=True)\n",
    "database2[col].value_counts()"
   ]
  },
  {
   "cell_type": "code",
   "execution_count": null,
   "id": "b700ddcf-a090-4ebe-b2fd-fe39d9af80c4",
   "metadata": {},
   "outputs": [],
   "source": [
    "col = columns_with_nan[10]\n",
    "database2[col].fillna(0,inplace=True)\n",
    "database2[col].value_counts()"
   ]
  },
  {
   "cell_type": "code",
   "execution_count": null,
   "id": "de3b66be-7fe0-4d7e-a98d-c2c28a1eb223",
   "metadata": {},
   "outputs": [],
   "source": [
    "col = columns_with_nan[11]\n",
    "database2[col].fillna(0,inplace=True)\n",
    "database2[col].value_counts()"
   ]
  },
  {
   "cell_type": "code",
   "execution_count": null,
   "id": "a135cb93-6355-43c0-a309-810103dc68bf",
   "metadata": {},
   "outputs": [],
   "source": [
    "col = columns_with_nan[12]\n",
    "database2[col].fillna(0,inplace=True)\n",
    "database2[col].value_counts()"
   ]
  },
  {
   "cell_type": "code",
   "execution_count": null,
   "id": "25270eeb-e02a-4e6d-bfee-c7a1497e449c",
   "metadata": {},
   "outputs": [],
   "source": [
    "col = columns_with_nan[13]\n",
    "database2[col].fillna(0,inplace=True)\n",
    "database2[col].value_counts()"
   ]
  },
  {
   "cell_type": "code",
   "execution_count": null,
   "id": "391a4d35-9d03-4c1c-a3c9-7e49bfa7dae0",
   "metadata": {},
   "outputs": [],
   "source": [
    "col = columns_with_nan[14]\n",
    "database2[col].fillna(0,inplace=True)\n",
    "database2[col].value_counts()"
   ]
  },
  {
   "cell_type": "code",
   "execution_count": null,
   "id": "e25849b1-103d-4542-8274-ba778173aa01",
   "metadata": {},
   "outputs": [],
   "source": [
    "col = columns_with_nan[15]\n",
    "database2[col].fillna(0,inplace=True)\n",
    "database2[col].value_counts()"
   ]
  },
  {
   "cell_type": "code",
   "execution_count": null,
   "id": "2065ae97-dc34-473d-87cd-d75ae31a8591",
   "metadata": {},
   "outputs": [],
   "source": [
    "col = columns_with_nan[16]\n",
    "#database2[col].fillna(0,inplace=True)\n",
    "database2[col].value_counts()"
   ]
  },
  {
   "cell_type": "code",
   "execution_count": null,
   "id": "6f699b55-cad0-430c-9567-3647e4ab7ada",
   "metadata": {},
   "outputs": [],
   "source": [
    "col = columns_with_nan[17]\n",
    "database2[col].fillna(0,inplace=True)\n",
    "database2[col].value_counts()"
   ]
  },
  {
   "cell_type": "code",
   "execution_count": null,
   "id": "997556e5-b50e-448d-8340-c7c7f8e3dd55",
   "metadata": {},
   "outputs": [],
   "source": [
    "def cat(value):\n",
    "    if(value<100):\n",
    "        return 0\n",
    "    else:\n",
    "        return 1\n",
    "        \n",
    "col = columns_with_nan[18]\n",
    "database2[col].fillna(0,inplace=True)\n",
    "database2[col] = database2[col].apply(cat)\n",
    "database2[col].value_counts()"
   ]
  },
  {
   "cell_type": "code",
   "execution_count": null,
   "id": "8296bbbd-8e60-4cdb-9758-0c7dabd34479",
   "metadata": {},
   "outputs": [],
   "source": [
    "col = columns_with_nan[19]\n",
    "database2[col].fillna(0,inplace=True)\n",
    "database2[col].value_counts()"
   ]
  },
  {
   "cell_type": "code",
   "execution_count": null,
   "id": "5c7236f7-b72e-4a28-bd15-be17c2b18885",
   "metadata": {},
   "outputs": [],
   "source": [
    "col = columns_with_nan[20]\n",
    "#database2[col].fillna(0,inplace=True)\n",
    "database2[col].value_counts()"
   ]
  },
  {
   "cell_type": "code",
   "execution_count": null,
   "id": "1476f8dc-6f4e-4790-901c-ceaa04aa0f42",
   "metadata": {},
   "outputs": [],
   "source": [
    "col = columns_with_nan[21]\n",
    "database2[col].fillna(0,inplace=True)\n",
    "database2[col].value_counts()"
   ]
  },
  {
   "cell_type": "code",
   "execution_count": null,
   "id": "521befe5-4652-4829-8492-c2b45d63bb88",
   "metadata": {},
   "outputs": [],
   "source": [
    "col = columns_with_nan[22]\n",
    "database2[col].fillna(0,inplace=True)\n",
    "database2[col].value_counts()"
   ]
  },
  {
   "cell_type": "code",
   "execution_count": null,
   "id": "f3083a6a-b955-4c13-aadb-2aa8de941181",
   "metadata": {},
   "outputs": [],
   "source": [
    "col = columns_with_nan[23]\n",
    "database2[col].fillna(0,inplace=True)\n",
    "database2[col].value_counts()"
   ]
  },
  {
   "cell_type": "code",
   "execution_count": null,
   "id": "c91fbaea-8415-483f-b71f-d1d415ffbfbd",
   "metadata": {},
   "outputs": [],
   "source": [
    "col = columns_with_nan[24]\n",
    "database2[col].fillna(0,inplace=True)\n",
    "database2[col].value_counts()"
   ]
  },
  {
   "cell_type": "code",
   "execution_count": null,
   "id": "e929721c-d08b-4e95-9b99-3734191fe1d7",
   "metadata": {},
   "outputs": [],
   "source": [
    "col = columns_with_nan[25]\n",
    "database2[col].fillna(0,inplace=True)\n",
    "database2[col].value_counts()"
   ]
  },
  {
   "cell_type": "code",
   "execution_count": null,
   "id": "e49b63e2-9bf5-4682-88aa-9cb5e907b73b",
   "metadata": {},
   "outputs": [],
   "source": [
    "col = columns_with_nan[26]\n",
    "#database2[col].fillna(0,inplace=True)\n",
    "database2[col].value_counts()"
   ]
  },
  {
   "cell_type": "code",
   "execution_count": null,
   "id": "3e6b5990-e1cd-44e7-914b-982da9e1773b",
   "metadata": {},
   "outputs": [],
   "source": [
    "database2"
   ]
  },
  {
   "cell_type": "code",
   "execution_count": null,
   "id": "5fdda495-06fa-4c4a-b62b-e1c5b90f26e6",
   "metadata": {},
   "outputs": [],
   "source": [
    "col = columns_with_nan[28]\n",
    "database2[col].fillna(0,inplace=True)\n",
    "database2[col].value_counts()"
   ]
  },
  {
   "cell_type": "code",
   "execution_count": null,
   "id": "4c537614-d435-4515-a877-eb83519d406e",
   "metadata": {},
   "outputs": [],
   "source": [
    "database2[col].value_counts()"
   ]
  },
  {
   "cell_type": "code",
   "execution_count": null,
   "id": "5c05aa68-5a72-4364-81ad-b05d169df234",
   "metadata": {},
   "outputs": [],
   "source": [
    "labels = database2[col].value_counts(dropna=False).index\n",
    "changes = dict(zip(labels,range(len(labels))))"
   ]
  },
  {
   "cell_type": "code",
   "execution_count": null,
   "id": "3abdac29-aa35-4296-935f-4d04bdeb93fc",
   "metadata": {},
   "outputs": [],
   "source": [
    "database2[col] = database2[col].replace(changes)\n",
    "database2[col].value_counts()"
   ]
  },
  {
   "cell_type": "code",
   "execution_count": null,
   "id": "d1bf8b2c-5252-4258-adb2-190e0a418a95",
   "metadata": {},
   "outputs": [],
   "source": [
    "database2"
   ]
  },
  {
   "cell_type": "code",
   "execution_count": null,
   "id": "6c407f58-1eae-4b04-b2de-cf0349fc7848",
   "metadata": {},
   "outputs": [],
   "source": [
    "col = columns_with_nan[27]\n",
    "database2[col].fillna(0,inplace=True)\n",
    "database2[col].value_counts()"
   ]
  },
  {
   "cell_type": "code",
   "execution_count": null,
   "id": "578b2b70-23d9-4dbc-b80e-63d82ba5032f",
   "metadata": {},
   "outputs": [],
   "source": [
    "col = columns_with_nan[29]\n",
    "database2[col].fillna(0,inplace=True)\n",
    "database2[col].value_counts()"
   ]
  },
  {
   "cell_type": "code",
   "execution_count": null,
   "id": "b981e14b-89ab-4747-9c37-9f3e2d433ad4",
   "metadata": {},
   "outputs": [],
   "source": [
    "labels = database2[col].value_counts(dropna=False).index\n",
    "changes = dict(zip(labels,range(len(labels))))\n",
    "database2[col] = database2[col].replace(changes)\n",
    "database2[col].value_counts()"
   ]
  },
  {
   "cell_type": "code",
   "execution_count": null,
   "id": "c2d40f87-9d0f-4f4e-b449-a59f78724bb3",
   "metadata": {},
   "outputs": [],
   "source": [
    "col = columns_with_nan[30]\n",
    "database2[col].fillna(0,inplace=True)\n",
    "database2[col].value_counts()"
   ]
  },
  {
   "cell_type": "code",
   "execution_count": null,
   "id": "e1fe7fb1-0681-4430-9f94-f81726ee8328",
   "metadata": {},
   "outputs": [],
   "source": [
    "col = columns_with_nan[31]\n",
    "database2[col].fillna(0,inplace=True)\n",
    "database2[col].value_counts()"
   ]
  },
  {
   "cell_type": "code",
   "execution_count": null,
   "id": "d3246138-4570-4a59-8011-f1418f60b6c3",
   "metadata": {},
   "outputs": [],
   "source": [
    "labels = database2[col].value_counts(dropna=False).index\n",
    "changes = dict(zip(labels,range(len(labels))))\n",
    "database2[col] = database2[col].replace(changes)\n",
    "database2[col].value_counts()"
   ]
  },
  {
   "cell_type": "code",
   "execution_count": null,
   "id": "cae59359-831e-4fb2-829c-800cbd31c5c4",
   "metadata": {},
   "outputs": [],
   "source": [
    "col = columns_with_nan[32]\n",
    "database2[col].fillna(0,inplace=True)\n",
    "database2[col].value_counts()"
   ]
  },
  {
   "cell_type": "code",
   "execution_count": null,
   "id": "1c6d256c-d6d2-4f80-8c5c-193c3e43a3dc",
   "metadata": {},
   "outputs": [],
   "source": [
    "col = columns_with_nan[33]\n",
    "#database2[col].fillna(0,inplace=True)\n",
    "print(col)\n",
    "database2[col].value_counts()\n",
    "database2.drop(columns=[col])"
   ]
  },
  {
   "cell_type": "code",
   "execution_count": null,
   "id": "d869ac0e-e303-4c81-a0ae-96ef58efa8e5",
   "metadata": {},
   "outputs": [],
   "source": [
    "col = columns_with_nan[34]\n",
    "database2[col].fillna(0,inplace=True)\n",
    "database2[col].value_counts()"
   ]
  },
  {
   "cell_type": "code",
   "execution_count": null,
   "id": "707a2f95-5aa7-49d5-b706-43d20de105f9",
   "metadata": {},
   "outputs": [],
   "source": [
    "labels = database2[col].value_counts(dropna=False).index\n",
    "changes = dict(zip(labels,range(len(labels))))\n",
    "database2[col] = database2[col].replace(changes)\n",
    "database2[col].value_counts()"
   ]
  },
  {
   "cell_type": "code",
   "execution_count": null,
   "id": "deafe4b7-286c-43e4-b8c1-daf025cfedc5",
   "metadata": {},
   "outputs": [],
   "source": [
    "col = columns_with_nan[35]\n",
    "database2[col].fillna(0,inplace=True)\n",
    "database2[col].value_counts()"
   ]
  },
  {
   "cell_type": "code",
   "execution_count": null,
   "id": "3da21310-0d18-4d52-8bb3-93361aac91ec",
   "metadata": {},
   "outputs": [],
   "source": [
    "labels = database2[col].value_counts(dropna=False).index\n",
    "changes = dict(zip(labels,range(len(labels))))\n",
    "database2[col] = database2[col].replace(changes)\n",
    "database2[col].value_counts()"
   ]
  },
  {
   "cell_type": "code",
   "execution_count": null,
   "id": "d816b76b-b5e1-477e-a906-d8e43d09357d",
   "metadata": {},
   "outputs": [],
   "source": [
    "col = columns_with_nan[36]\n",
    "database2[col].fillna(0,inplace=True)\n",
    "database2[col].value_counts()"
   ]
  },
  {
   "cell_type": "code",
   "execution_count": null,
   "id": "52669478-e5bb-4dec-a748-dd18f06c0d11",
   "metadata": {},
   "outputs": [],
   "source": [
    "col = columns_with_nan[37]\n",
    "database2[col].fillna(0,inplace=True)\n",
    "database2[col].value_counts()"
   ]
  },
  {
   "cell_type": "code",
   "execution_count": null,
   "id": "8dc4fa79-3e42-4fa6-b206-72d41898936e",
   "metadata": {},
   "outputs": [],
   "source": [
    "col = columns_with_nan[38]\n",
    "database2[col].fillna(0,inplace=True)\n",
    "database2[col].value_counts()"
   ]
  },
  {
   "cell_type": "code",
   "execution_count": null,
   "id": "160a495d-742e-4717-a79b-82a9a81e5420",
   "metadata": {},
   "outputs": [],
   "source": [
    "col = columns_with_nan[39]\n",
    "database2[col].fillna(0,inplace=True)\n",
    "database2[col].value_counts()"
   ]
  },
  {
   "cell_type": "code",
   "execution_count": null,
   "id": "030718d5-33a2-4107-80a2-fff0681f890c",
   "metadata": {},
   "outputs": [],
   "source": [
    "col = columns_with_nan[40]\n",
    "database2[col].fillna(0,inplace=True)\n",
    "database2[col].value_counts()"
   ]
  },
  {
   "cell_type": "code",
   "execution_count": null,
   "id": "0248284d-71c8-433b-8945-aef473de4829",
   "metadata": {},
   "outputs": [],
   "source": [
    "col = columns_with_nan[41]\n",
    "database2[col].fillna(0,inplace=True)\n",
    "database2[col].value_counts()"
   ]
  },
  {
   "cell_type": "code",
   "execution_count": null,
   "id": "05ea9dd1-2296-4b4b-b09c-3d7971cf431e",
   "metadata": {},
   "outputs": [],
   "source": [
    "labels = database2[col].value_counts(dropna=False).index\n",
    "changes = dict(zip(labels,range(len(labels))))\n",
    "database2[col] = database2[col].replace(changes)\n",
    "database2[col].value_counts()"
   ]
  },
  {
   "cell_type": "code",
   "execution_count": null,
   "id": "c9713c82-1729-4ffb-8383-b706e41df110",
   "metadata": {},
   "outputs": [],
   "source": [
    "col = columns_with_nan[42]\n",
    "database2[col].fillna(0,inplace=True)\n",
    "database2[col].value_counts()"
   ]
  },
  {
   "cell_type": "code",
   "execution_count": null,
   "id": "4af21164-5a29-4bdd-870a-881b173c8f68",
   "metadata": {},
   "outputs": [],
   "source": [
    "labels = database2[col].value_counts(dropna=False).index\n",
    "changes = dict(zip(labels,range(len(labels))))\n",
    "database2[col] = database2[col].replace(changes)\n",
    "database2[col].value_counts()"
   ]
  },
  {
   "cell_type": "code",
   "execution_count": null,
   "id": "06333f3c-cc3d-4c1b-814a-336486601464",
   "metadata": {},
   "outputs": [],
   "source": [
    "col = columns_with_nan[43]\n",
    "database2[col].fillna(0,inplace=True)\n",
    "database2[col].value_counts()"
   ]
  },
  {
   "cell_type": "code",
   "execution_count": null,
   "id": "bbb9498c-27e7-48b2-9b44-abba679c477c",
   "metadata": {},
   "outputs": [],
   "source": [
    "labels = database2[col].value_counts(dropna=False).index\n",
    "changes = dict(zip(labels,range(len(labels))))\n",
    "database2[col] = database2[col].replace(changes)\n",
    "database2[col].value_counts()"
   ]
  },
  {
   "cell_type": "code",
   "execution_count": null,
   "id": "154f0582-43c6-4af2-b1e7-0103b7db9490",
   "metadata": {},
   "outputs": [],
   "source": [
    "col = columns_with_nan[44]\n",
    "database2[col].fillna(False,inplace=True)\n",
    "database2[col].value_counts()"
   ]
  },
  {
   "cell_type": "code",
   "execution_count": null,
   "id": "e80361e7-d360-4b8f-8c1c-ed09c600afba",
   "metadata": {},
   "outputs": [],
   "source": [
    "labels = database2[col].value_counts(dropna=False).index\n",
    "changes = dict(zip(labels,range(len(labels))))\n",
    "database2[col] = database2[col].replace(changes)\n",
    "database2[col].value_counts()"
   ]
  },
  {
   "cell_type": "code",
   "execution_count": null,
   "id": "a10416ba-bd61-4fcf-bc3b-18e572b838ce",
   "metadata": {},
   "outputs": [],
   "source": [
    "col = columns_with_nan[45]\n",
    "database2[col].fillna(0,inplace=True)\n",
    "database2[col].value_counts()"
   ]
  },
  {
   "cell_type": "code",
   "execution_count": null,
   "id": "3ac13bdc-b717-4564-a0ab-3ec021ae8aa0",
   "metadata": {},
   "outputs": [],
   "source": [
    "labels = database2[col].value_counts(dropna=False).index\n",
    "changes = dict(zip(labels,range(len(labels))))\n",
    "database2[col] = database2[col].replace(changes)\n",
    "database2[col].value_counts()"
   ]
  },
  {
   "cell_type": "code",
   "execution_count": null,
   "id": "30eaa7aa-ce47-45f5-89b8-9bd92971e6fb",
   "metadata": {},
   "outputs": [],
   "source": [
    "col = columns_with_nan[46]\n",
    "database2[col].fillna(False,inplace=True)\n",
    "database2[col].value_counts()"
   ]
  },
  {
   "cell_type": "code",
   "execution_count": null,
   "id": "c141b965-c271-4ccc-84c7-0b8729706db7",
   "metadata": {},
   "outputs": [],
   "source": [
    "labels = database2[col].value_counts(dropna=False).index\n",
    "changes = dict(zip(labels,range(len(labels))))\n",
    "database2[col] = database2[col].replace(changes)\n",
    "database2[col].value_counts()"
   ]
  },
  {
   "cell_type": "code",
   "execution_count": null,
   "id": "262fe973-11db-4b75-a451-c05967027b88",
   "metadata": {},
   "outputs": [],
   "source": [
    "col = columns_with_nan[47]\n",
    "database2[col].fillna(False,inplace=True)\n",
    "database2[col].value_counts()"
   ]
  },
  {
   "cell_type": "code",
   "execution_count": null,
   "id": "0dea8fa3-8d16-4391-bee0-e8874867c2b2",
   "metadata": {},
   "outputs": [],
   "source": [
    "labels = database2[col].value_counts(dropna=False).index\n",
    "changes = dict(zip(labels,range(len(labels))))\n",
    "database2[col] = database2[col].replace(changes)\n",
    "database2[col].value_counts()"
   ]
  },
  {
   "cell_type": "code",
   "execution_count": null,
   "id": "d97ca771-eda6-4cc5-8bb1-206bc0463b53",
   "metadata": {},
   "outputs": [],
   "source": [
    "columns_with_nan2 = database2.columns[database2.isna().any()].tolist()\n",
    "columns_with_nan2"
   ]
  },
  {
   "cell_type": "code",
   "execution_count": null,
   "id": "e6a43c8d-9233-4b69-bb29-7f40c91e7520",
   "metadata": {},
   "outputs": [],
   "source": [
    "col = columns_with_nan2[1]\n",
    "database2[col].fillna(0,inplace=True)\n",
    "database2[col].value_counts()"
   ]
  },
  {
   "cell_type": "code",
   "execution_count": null,
   "id": "9cef5b27-ca17-4d8b-a6a3-86f8d074fd1e",
   "metadata": {},
   "outputs": [],
   "source": [
    "col = columns_with_nan2[2]\n",
    "database2[col].fillna(0,inplace=True)\n",
    "database2[col].value_counts()"
   ]
  },
  {
   "cell_type": "code",
   "execution_count": null,
   "id": "8f86e695-6dad-48ba-b044-cbdd098ae257",
   "metadata": {},
   "outputs": [],
   "source": [
    "col = columns_with_nan2[3]\n",
    "#database2[col].fillna(0,inplace=True)\n",
    "database2 = database2.drop(columns=[col])"
   ]
  },
  {
   "cell_type": "code",
   "execution_count": null,
   "id": "5d101170-29c1-4e62-98f1-0f94963d17d1",
   "metadata": {},
   "outputs": [],
   "source": [
    "col = columns_with_nan2[0]\n",
    "database2 = database2.drop(columns=[col])"
   ]
  },
  {
   "cell_type": "code",
   "execution_count": null,
   "id": "d8378540-c70e-435a-9527-bc9a115c48e3",
   "metadata": {},
   "outputs": [],
   "source": [
    "database2 = database2.drop(columns=database2.columns[0:2])"
   ]
  },
  {
   "cell_type": "code",
   "execution_count": null,
   "id": "d710e4a3-16db-46ad-b343-df926f6b9517",
   "metadata": {},
   "outputs": [],
   "source": [
    "database2 = database2.drop(columns=['education_level'])"
   ]
  },
  {
   "cell_type": "code",
   "execution_count": null,
   "id": "cca6bfae-af80-4bb1-9f08-09e5208a6be1",
   "metadata": {},
   "outputs": [],
   "source": [
    "database2"
   ]
  },
  {
   "cell_type": "code",
   "execution_count": null,
   "id": "cbf623c6-9991-468c-bbf0-c1b35b07e3ef",
   "metadata": {},
   "outputs": [],
   "source": [
    "database2.columns"
   ]
  },
  {
   "cell_type": "code",
   "execution_count": null,
   "id": "b9247cd5-6f29-43d3-9628-a5c5e01c923e",
   "metadata": {},
   "outputs": [],
   "source": [
    "columns = [\"chronic_kidney_disease_diagnosis\", \"chronic_kidney_failure_management\"]\n",
    "database2 = database2.drop(columns=columns[1])"
   ]
  },
  {
   "cell_type": "code",
   "execution_count": null,
   "id": "37faa080-91be-478b-bb49-aa743eb41cb9",
   "metadata": {},
   "outputs": [],
   "source": [
    "database2.columns"
   ]
  },
  {
   "cell_type": "code",
   "execution_count": null,
   "id": "2c119052-f83a-4010-b3c9-276ba0879612",
   "metadata": {},
   "outputs": [],
   "source": [
    "from sklearn.model_selection import train_test_split, cross_val_score\n",
    "from sklearn.preprocessing import LabelEncoder, StandardScaler\n",
    "from sklearn.metrics import accuracy_score, classification_report\n",
    "from sklearn.linear_model import LogisticRegression\n",
    "from sklearn.ensemble import RandomForestClassifier\n",
    "from sklearn.svm import SVC\n",
    "from xgboost import XGBClassifier\n",
    "from sklearn.naive_bayes import GaussianNB\n",
    "import warnings\n",
    "\n",
    "warnings.filterwarnings(\"ignore\")  # for cleaner output\n",
    "df = database2.copy()\n",
    "\n",
    "target_col = columns[0]# Replace with your column name\n",
    "X = df.drop(columns=[target_col])\n",
    "y = df[target_col]\n",
    "\n",
    "X = pd.get_dummies(X, drop_first=True)\n",
    "\n",
    "scaler = StandardScaler()\n",
    "X_scaled = scaler.fit_transform(X)\n",
    "\n",
    "X_train, X_test, y_train, y_test = train_test_split(\n",
    "    X_scaled, y, test_size=0.2, \n",
    ")\n",
    "\n",
    "models = {\n",
    "    \"Logistic Regression\": LogisticRegression(),\n",
    "    \"Random Forest\": RandomForestClassifier(),\n",
    "    \"SVM\": SVC(),\n",
    "    \"XGBoost\": XGBClassifier(use_label_encoder=False, eval_metric='logloss'),\n",
    "    \"Naive Bayes\": GaussianNB()\n",
    "}\n",
    "\n",
    "for name, model in models.items():\n",
    "    model.fit(X_train, y_train)\n",
    "    y_pred = model.predict(X_test)\n",
    "    acc = accuracy_score(y_test, y_pred)\n",
    "    print(f\"\\n{name} Accuracy: {acc:.4f}\")\n",
    "    print(classification_report(y_test, y_pred))"
   ]
  },
  {
   "cell_type": "code",
   "execution_count": null,
   "id": "f35388e5-e1de-4f67-abb2-e61c85499473",
   "metadata": {},
   "outputs": [],
   "source": [
    "from sklearn.metrics import accuracy_score, log_loss, classification_report\n",
    "import numpy as np\n",
    "import pandas as pd\n",
    "\n",
    "# Create an empty list to store results\n",
    "results = []\n",
    "\n",
    "# Loop through each model and evaluate\n",
    "for name, model in models.items():\n",
    "    model.fit(X_train, y_train)\n",
    "\n",
    "    y_pred = model.predict(X_test)\n",
    "    # Predict probabilities if available\n",
    "    y_proba = model.predict_proba(X_test) if hasattr(model, \"predict_proba\") else None\n",
    "\n",
    "    # Accuracy\n",
    "    acc = accuracy_score(y_test, y_pred)\n",
    "\n",
    "    # Log Loss (only if proba is available)\n",
    "    if y_proba is not None:\n",
    "        ll = log_loss(y_test, y_proba, labels=np.unique(y))\n",
    "    else:\n",
    "        ll = np.nan\n",
    "\n",
    "    # Store results\n",
    "    results.append({\n",
    "        \"Model\": name,\n",
    "        \"Accuracy\": round(acc, 4),\n",
    "        \"Log Loss\": round(ll, 4) if not np.isnan(ll) else \"N/A\"\n",
    "    })\n",
    "\n",
    "# Create results DataFrame\n",
    "results_df = pd.DataFrame(results).sort_values(by=\"Accuracy\", ascending=False).reset_index(drop=True)\n",
    "\n",
    "# Print as plain table\n",
    "print(\"\\n📊 Multiclass Model Performance Table:\")\n",
    "print(results_df.to_string(index=False))"
   ]
  },
  {
   "cell_type": "code",
   "execution_count": null,
   "id": "bba17123-4550-4634-a9b9-800469fef220",
   "metadata": {},
   "outputs": [],
   "source": [
    "print(results)"
   ]
  }
 ],
 "metadata": {
  "kernelspec": {
   "display_name": "Python 3 (ipykernel)",
   "language": "python",
   "name": "python3"
  },
  "language_info": {
   "codemirror_mode": {
    "name": "ipython",
    "version": 3
   },
   "file_extension": ".py",
   "mimetype": "text/x-python",
   "name": "python",
   "nbconvert_exporter": "python",
   "pygments_lexer": "ipython3",
   "version": "3.9.23"
  }
 },
 "nbformat": 4,
 "nbformat_minor": 5
}
