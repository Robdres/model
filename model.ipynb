{
 "cells": [
  {
   "cell_type": "code",
   "execution_count": 76,
   "id": "f8e469a1-1dd9-4b14-956c-5644465e73bd",
   "metadata": {},
   "outputs": [],
   "source": [
    "import pandas as pd\n",
    "from sklearn.feature_selection import SelectKBest, f_classif, chi2\n",
    "from sklearn.preprocessing import LabelEncoder"
   ]
  },
  {
   "cell_type": "code",
   "execution_count": 247,
   "id": "1d78bcd5-67a4-4998-9f57-b3d6bb0a0628",
   "metadata": {},
   "outputs": [],
   "source": [
    "df = pd.read_csv(\"clean_database.csv\",index_col=0)\n",
    "columns = [\"chronic_kidney_disease_diagnosis\"]\n",
    "def a(x):\n",
    "    if x == 1: \n",
    "        return 0.4\n",
    "    if x == 2: \n",
    "        return 0.6\n",
    "    if x == 3: \n",
    "        return 0.8\n",
    "    if x == 4: \n",
    "        return 1\n",
    "    return 0\n",
    "df[columns[0]] = df[columns[0]].apply(a)\n",
    "df[\"microalbuminuria_category\"]=df[\"microalbuminuria_category\"].map({'0': 0,'A1':1,'a1':1,'A1 ':1,'A2':2})\n",
    "df[df==\"137/93\"] = 1.47\n",
    "df[\"total_cholesterol_pathological\"] = df[\"total_cholesterol_pathological\"].astype(np.float64)"
   ]
  },
  {
   "cell_type": "code",
   "execution_count": 248,
   "id": "10ca64ae-61b6-4886-a4d3-50fe35509018",
   "metadata": {},
   "outputs": [],
   "source": [
    "cols = df.loc[:,columns]"
   ]
  },
  {
   "cell_type": "code",
   "execution_count": null,
   "id": "399d8fe5-d8c8-4a3e-a2a7-a3c824421cf5",
   "metadata": {},
   "outputs": [],
   "source": []
  },
  {
   "cell_type": "code",
   "execution_count": 250,
   "id": "58b53c80-ceba-45af-a613-d24d253f2278",
   "metadata": {},
   "outputs": [
    {
     "name": "stdout",
     "output_type": "stream",
     "text": [
      "Mejores características seleccionadas:\n",
      "Atributo microalbuminuria_category: score: 0.3765928944328592\n",
      "Atributo age_years: score: 0.5168145625131998\n",
      "Atributo bmi_category: score: 0.9524347881119053\n",
      "Atributo ldl_cholesterol_pathological: score: 1.1557629083054815\n",
      "Atributo hypothyroidism_diagnosis: score: 1.335550229261789\n",
      "Atributo family_history_overweight_obesity: score: 1.4360701037495507\n",
      "Atributo other_family_history: score: 1.5587393386069417\n",
      "Atributo personal_history_hypothyroidism: score: 1.7441425311444476\n",
      "Atributo hypothyroidism_treatment: score: 1.9681142114376091\n",
      "Atributo hdl_cholesterol_pathological: score: 3.4041454395875452\n",
      "Atributo personal_history_dyslipidemia: score: 3.4390326516881244\n",
      "Atributo family_history_diabetes: score: 3.5954473806193734\n",
      "Atributo prediabetes_diagnosis: score: 4.359011107989645\n",
      "Atributo other_personal_history: score: 6.63798231790078\n",
      "Atributo female_specific_conditions: score: 7.601488649108515\n",
      "Atributo glomerular_filtration_rate: score: 7.804502287868389\n",
      "Atributo weight_kg: score: 8.544336947874731\n",
      "Atributo gfr_category: score: 10.248500194771525\n",
      "Atributo metabolic_syndrome: score: 10.923701003252837\n",
      "Atributo diabetes_risk_10_years_findrisk: score: 10.99787696997421\n",
      "Atributo abdominal_perimeter: score: 12.370835103253906\n",
      "Atributo personal_history_cardiac_cerebrovascular: score: 16.73233326797592\n",
      "Atributo fasting_glucose: score: 18.03099908908039\n",
      "Atributo personal_history_obesity: score: 24.523756427707127\n",
      "Atributo alcohol_consumption: score: 25.112190384636154\n",
      "Atributo personal_history_chronic_kidney_disease: score: 25.274033239659374\n",
      "Atributo serum_creatinine: score: 35.79541464346114\n",
      "Atributo hba1c_elevated: score: 47.08395408099866\n",
      "Atributo gfr_proteinuria_relationship: score: 47.23833659005386\n",
      "Atributo obesity_diagnosis: score: 116.23559206577394\n"
     ]
    }
   ],
   "source": [
    "X = df.drop(columns=columns[0])  \n",
    "y = df[columns[0]]\n",
    "\n",
    "X_encoded = X.copy()\n",
    "for col in X.select_dtypes(include=['object', 'category']).columns:\n",
    "    X_encoded[col] = LabelEncoder().fit_transform(X[col])\n",
    "\n",
    "selector = SelectKBest(score_func=f_classif,k=30) \n",
    "X_new = selector.fit_transform(X_encoded, y)\n",
    "\n",
    "selected_features = X_encoded.columns[selector.get_support()]\n",
    "results =list(zip(selected_features,selector.scores_))\n",
    "results.sort(key=lambda x:x[1])\n",
    "print(\"Mejores características seleccionadas:\")\n",
    "for i,j in results:\n",
    "    print(f\"Atributo {i}: score: {j}\")"
   ]
  },
  {
   "cell_type": "code",
   "execution_count": 251,
   "id": "678db0a3-5f7f-4a78-be24-803ec796fcf8",
   "metadata": {},
   "outputs": [
    {
     "data": {
      "text/html": [
       "<div>\n",
       "<style scoped>\n",
       "    .dataframe tbody tr th:only-of-type {\n",
       "        vertical-align: middle;\n",
       "    }\n",
       "\n",
       "    .dataframe tbody tr th {\n",
       "        vertical-align: top;\n",
       "    }\n",
       "\n",
       "    .dataframe thead th {\n",
       "        text-align: right;\n",
       "    }\n",
       "</style>\n",
       "<table border=\"1\" class=\"dataframe\">\n",
       "  <thead>\n",
       "    <tr style=\"text-align: right;\">\n",
       "      <th></th>\n",
       "      <th>chronic_kidney_disease_diagnosis</th>\n",
       "    </tr>\n",
       "  </thead>\n",
       "  <tbody>\n",
       "    <tr>\n",
       "      <th>0</th>\n",
       "      <td>0.0</td>\n",
       "    </tr>\n",
       "    <tr>\n",
       "      <th>1</th>\n",
       "      <td>0.0</td>\n",
       "    </tr>\n",
       "    <tr>\n",
       "      <th>2</th>\n",
       "      <td>0.0</td>\n",
       "    </tr>\n",
       "    <tr>\n",
       "      <th>3</th>\n",
       "      <td>0.0</td>\n",
       "    </tr>\n",
       "    <tr>\n",
       "      <th>4</th>\n",
       "      <td>0.0</td>\n",
       "    </tr>\n",
       "    <tr>\n",
       "      <th>...</th>\n",
       "      <td>...</td>\n",
       "    </tr>\n",
       "    <tr>\n",
       "      <th>2156</th>\n",
       "      <td>0.4</td>\n",
       "    </tr>\n",
       "    <tr>\n",
       "      <th>2157</th>\n",
       "      <td>0.4</td>\n",
       "    </tr>\n",
       "    <tr>\n",
       "      <th>2158</th>\n",
       "      <td>0.8</td>\n",
       "    </tr>\n",
       "    <tr>\n",
       "      <th>2159</th>\n",
       "      <td>0.6</td>\n",
       "    </tr>\n",
       "    <tr>\n",
       "      <th>2160</th>\n",
       "      <td>0.8</td>\n",
       "    </tr>\n",
       "  </tbody>\n",
       "</table>\n",
       "<p>2157 rows × 1 columns</p>\n",
       "</div>"
      ],
      "text/plain": [
       "      chronic_kidney_disease_diagnosis\n",
       "0                                  0.0\n",
       "1                                  0.0\n",
       "2                                  0.0\n",
       "3                                  0.0\n",
       "4                                  0.0\n",
       "...                                ...\n",
       "2156                               0.4\n",
       "2157                               0.4\n",
       "2158                               0.8\n",
       "2159                               0.6\n",
       "2160                               0.8\n",
       "\n",
       "[2157 rows x 1 columns]"
      ]
     },
     "execution_count": 251,
     "metadata": {},
     "output_type": "execute_result"
    }
   ],
   "source": [
    "cols"
   ]
  },
  {
   "cell_type": "code",
   "execution_count": 252,
   "id": "33f6a81f-74e2-402a-a907-763ef06866d8",
   "metadata": {},
   "outputs": [],
   "source": [
    "features= df.drop(columns=columns)"
   ]
  },
  {
   "cell_type": "code",
   "execution_count": 269,
   "id": "9f839512-1d63-4aab-b4ee-a8ce8a77141a",
   "metadata": {},
   "outputs": [],
   "source": [
    "import numpy as np\n",
    "from sklearn.model_selection import train_test_split\n",
    "X_train, X_test, y_train, y_test = train_test_split( features, cols, test_size=0.2)"
   ]
  },
  {
   "cell_type": "code",
   "execution_count": 257,
   "id": "8a24044e-376d-48a2-a257-d1b09db53c16",
   "metadata": {},
   "outputs": [
    {
     "name": "stdout",
     "output_type": "stream",
     "text": [
      "(1725, 58)\n",
      "(432, 58)\n",
      "(1725, 1)\n",
      "(432, 1)\n"
     ]
    }
   ],
   "source": [
    "print(X_train.shape)\n",
    "print(X_test.shape)\n",
    "print(y_train.shape)\n",
    "print(y_test.shape)"
   ]
  },
  {
   "cell_type": "code",
   "execution_count": 261,
   "id": "cf1e9b87-5872-4ef0-8d47-d008c9fa0538",
   "metadata": {},
   "outputs": [
    {
     "name": "stdout",
     "output_type": "stream",
     "text": [
      "\n",
      "Linear Regression\n",
      "  R² Score: 0.9129\n",
      "  MAE: 0.0405\n",
      "  MSE: 0.0051\n",
      "\n",
      "Random Forest\n",
      "  R² Score: 1.0000\n",
      "  MAE: 0.0001\n",
      "  MSE: 0.0000\n",
      "\n",
      "SVR\n",
      "  R² Score: 0.8096\n",
      "  MAE: 0.0794\n",
      "  MSE: 0.0110\n",
      "\n",
      "XGBoost\n",
      "  R² Score: 0.9999\n",
      "  MAE: 0.0002\n",
      "  MSE: 0.0000\n",
      "\n",
      "Neural Network\n",
      "  R² Score: 0.5959\n",
      "  MAE: 0.1127\n",
      "  MSE: 0.0234\n"
     ]
    }
   ],
   "source": [
    "from sklearn.model_selection import train_test_split\n",
    "from sklearn.preprocessing import StandardScaler\n",
    "from sklearn.metrics import mean_squared_error, r2_score, mean_absolute_error\n",
    "from sklearn.linear_model import LinearRegression\n",
    "from sklearn.ensemble import RandomForestRegressor\n",
    "from sklearn.svm import SVR\n",
    "from xgboost import XGBRegressor\n",
    "from sklearn.neural_network import MLPRegressor\n",
    "import warnings\n",
    "\n",
    "warnings.filterwarnings(\"ignore\")\n",
    "# Normalize features\n",
    "scaler = StandardScaler()\n",
    "X_train_scaled = scaler.fit_transform(X_train)\n",
    "X_test_scaled = scaler.transform(X_test)\n",
    "\n",
    "# Define regression models\n",
    "models = {\n",
    "    \"Linear Regression\": LinearRegression(),\n",
    "    \"Random Forest\": RandomForestRegressor(n_estimators=20, n_jobs=-1),\n",
    "    \"SVR\": SVR(),\n",
    "    \"XGBoost\": XGBRegressor(n_jobs=-1),\n",
    "    \"Neural Network\": MLPRegressor(hidden_layer_sizes=(100,), max_iter=300)\n",
    "}\n",
    "\n",
    "# Evaluate models\n",
    "for name, model in models.items():\n",
    "    model.fit(X_train_scaled, y_train)\n",
    "    y_pred = model.predict(X_test_scaled)\n",
    "\n",
    "    mse = mean_squared_error(y_test, y_pred)\n",
    "    mae = mean_absolute_error(y_test, y_pred)\n",
    "    r2 = r2_score(y_test, y_pred)\n",
    "\n",
    "    print(f\"\\n{name}\")\n",
    "    print(f\"  R² Score: {r2:.4f}\")\n",
    "    print(f\"  MAE: {mae:.4f}\")\n",
    "    print(f\"  MSE: {mse:.4f}\")\n"
   ]
  },
  {
   "cell_type": "code",
   "execution_count": 270,
   "id": "ba1dd34c-9391-4dab-91c4-e024f5e62b07",
   "metadata": {},
   "outputs": [
    {
     "data": {
      "image/png": "[encoded data removed]",
      "text/plain": [
       "<Figure size 1800x500 with 3 Axes>"
      ]
     },
     "metadata": {},
     "output_type": "display_data"
    }
   ],
   "source": [
    "from sklearn.model_selection import train_test_split\n",
    "from sklearn.preprocessing import StandardScaler\n",
    "from sklearn.metrics import mean_squared_error, r2_score, mean_absolute_error\n",
    "from sklearn.linear_model import LinearRegression\n",
    "from sklearn.ensemble import RandomForestRegressor\n",
    "from sklearn.svm import SVR\n",
    "from xgboost import XGBRegressor\n",
    "from sklearn.neural_network import MLPRegressor\n",
    "import matplotlib.pyplot as plt\n",
    "import pandas as pd\n",
    "import numpy as np\n",
    "\n",
    "# Scale\n",
    "scaler = StandardScaler()\n",
    "X_train_scaled = scaler.fit_transform(X_train)\n",
    "X_test_scaled = scaler.transform(X_test)\n",
    "\n",
    "models = {\n",
    "    \"Linear Regression\": LinearRegression(),\n",
    "    \"Random Forest\": RandomForestRegressor(n_estimators=100, n_jobs=-1),\n",
    "    \"SVR\": SVR(),\n",
    "    \"XGBoost\": XGBRegressor(n_jobs=-1),\n",
    "    \"Neural Network\": MLPRegressor(hidden_layer_sizes=(100,), max_iter=300)\n",
    "}\n",
    "\n",
    "results = []\n",
    "for name, model in models.items():\n",
    "    model.fit(X_train_scaled, y_train)\n",
    "    y_pred = model.predict(X_test_scaled)\n",
    "    results.append({\n",
    "        \"Model\": name,\n",
    "        \"MSE\": mean_squared_error(y_test, y_pred),\n",
    "        \"MAE\": mean_absolute_error(y_test, y_pred),\n",
    "        \"R2 Score\": r2_score(y_test, y_pred)\n",
    "    })\n",
    "\n",
    "df_regression = pd.DataFrame(results)\n",
    "df_regression.set_index(\"Model\", inplace=True)\n",
    "\n",
    "fig, axes = plt.subplots(1, 3, figsize=(18, 5))\n",
    "\n",
    "df_regression[\"R2 Score\"].plot(kind=\"barh\", ax=axes[0], color=\"green\", title=\"R² Score\")\n",
    "axes[0].invert_yaxis(); axes[2].grid(True)\n",
    "\n",
    "df_regression[\"MSE\"].plot(kind=\"barh\", ax=axes[1], color=\"skyblue\", title=\"Mean Squared Error\")\n",
    "axes[1].invert_yaxis(); axes[0].grid(True)\n",
    "\n",
    "df_regression[\"MAE\"].plot(kind=\"barh\", ax=axes[2], color=\"orange\", title=\"Mean Absolute Error\")\n",
    "axes[2].invert_yaxis(); axes[1].grid(True)\n",
    "\n",
    "\n",
    "plt.suptitle(\"Regression Model Comparison\", fontsize=16)\n",
    "plt.tight_layout(rect=[0, 0, 1, 0.95])\n",
    "\n",
    "# Save plot\n",
    "plt.savefig(\"img.png\")\n",
    "plt.show()"
   ]
  },
  {
   "cell_type": "code",
   "execution_count": null,
   "id": "61c11925-9880-4190-b4fa-bb2a028d1bb4",
   "metadata": {},
   "outputs": [],
   "source": []
  }
 ],
 "metadata": {
  "kernelspec": {
   "display_name": "Python 3 (ipykernel)",
   "language": "python",
   "name": "python3"
  },
  "language_info": {
   "codemirror_mode": {
    "name": "ipython",
    "version": 3
   },
   "file_extension": ".py",
   "mimetype": "text/x-python",
   "name": "python",
   "nbconvert_exporter": "python",
   "pygments_lexer": "ipython3",
   "version": "3.9.23"
  }
 },
 "nbformat": 4,
 "nbformat_minor": 5
}
